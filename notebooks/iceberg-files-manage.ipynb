{
 "cells": [
  {
   "cell_type": "markdown",
   "id": "1e066621-a0b5-4366-8bf8-5dda9e9bf17c",
   "metadata": {},
   "source": [
    "# Iceberg Workshop"
   ]
  },
  {
   "cell_type": "markdown",
   "id": "0fac904d-f125-48a1-ac37-9085eaa846db",
   "metadata": {},
   "source": [
    "## 环境准备"
   ]
  },
  {
   "cell_type": "code",
   "execution_count": 1,
   "id": "3b0bb4ba-5c0e-4a7d-b98d-10f88de96e51",
   "metadata": {
    "execution": {
     "iopub.execute_input": "2024-08-09T12:16:03.261131Z",
     "iopub.status.busy": "2024-08-09T12:16:03.260776Z",
     "iopub.status.idle": "2024-08-09T12:16:03.529469Z",
     "shell.execute_reply": "2024-08-09T12:16:03.528786Z",
     "shell.execute_reply.started": "2024-08-09T12:16:03.261098Z"
    },
    "tags": []
   },
   "outputs": [
    {
     "data": {
      "text/html": [
       "Current session configs: <tt>{'conf': {'spark.sql.extensions': 'org.apache.iceberg.spark.extensions.IcebergSparkSessionExtensions', 'spark.sql.catalog.glue_catalog': 'org.apache.iceberg.spark.SparkCatalog', 'spark.sql.catalog.glue_catalog.catalog-impl': 'org.apache.iceberg.aws.glue.GlueCatalog', 'spark.sql.catalog.glue_catalog.io-impl': 'org.apache.iceberg.aws.s3.S3FileIO', 'spark.sql.catalog.glue_catalog.warehouse': 's3://myemr-bucket-01/data/iceberg-folder/'}, 'proxyUser': 'assumed-role_NorrisHuang_xiohuang-Isengard', 'kind': 'pyspark'}</tt><br>"
      ],
      "text/plain": [
       "<IPython.core.display.HTML object>"
      ]
     },
     "metadata": {},
     "output_type": "display_data"
    },
    {
     "data": {
      "text/html": [
       "No active sessions."
      ],
      "text/plain": [
       "<IPython.core.display.HTML object>"
      ]
     },
     "metadata": {},
     "output_type": "display_data"
    }
   ],
   "source": [
    "%%configure -f\n",
    "{\n",
    "    \"conf\":{\n",
    "        \"spark.sql.extensions\":\"org.apache.iceberg.spark.extensions.IcebergSparkSessionExtensions\",\n",
    "        \"spark.sql.catalog.glue_catalog\":\"org.apache.iceberg.spark.SparkCatalog\",\n",
    "        \"spark.sql.catalog.glue_catalog.catalog-impl\": \"org.apache.iceberg.aws.glue.GlueCatalog\",\n",
    "        \"spark.sql.catalog.glue_catalog.io-impl\": \"org.apache.iceberg.aws.s3.S3FileIO\",\n",
    "        \"spark.sql.catalog.glue_catalog.warehouse\":\"s3://myemr-bucket-01/data/iceberg-folder/\"\n",
    "        }\n",
    "}"
   ]
  },
  {
   "cell_type": "markdown",
   "id": "361c54ca-2d06-4f9e-b997-0799b4c4641f",
   "metadata": {},
   "source": [
    "## 小文件管理与过期数据清理"
   ]
  },
  {
   "cell_type": "markdown",
   "id": "ea364d95-eb62-4a23-9c35-3ee79d4f3560",
   "metadata": {},
   "source": [
    "首先，我们先创建一张 Iceberg 表，并且分批次插入一些数据。"
   ]
  },
  {
   "cell_type": "code",
   "execution_count": 11,
   "id": "3463a7e9-c1df-44ce-8a8f-6cfa94bb1e6b",
   "metadata": {
    "execution": {
     "iopub.execute_input": "2024-08-09T12:25:16.618783Z",
     "iopub.status.busy": "2024-08-09T12:25:16.618516Z",
     "iopub.status.idle": "2024-08-09T12:25:17.923060Z",
     "shell.execute_reply": "2024-08-09T12:25:17.922364Z",
     "shell.execute_reply.started": "2024-08-09T12:25:16.618750Z"
    },
    "tags": []
   },
   "outputs": [
    {
     "data": {
      "application/vnd.jupyter.widget-view+json": {
       "model_id": "",
       "version_major": 2,
       "version_minor": 0
      },
      "text/plain": [
       "FloatProgress(value=0.0, bar_style='info', description='Progress:', layout=Layout(height='25px', width='50%'),…"
      ]
     },
     "metadata": {},
     "output_type": "display_data"
    },
    {
     "data": {
      "application/vnd.jupyter.widget-view+json": {
       "model_id": "e24a8d4478c14171bb613a4bf38a4241",
       "version_major": 2,
       "version_minor": 0
      },
      "text/plain": [
       "VBox(children=(HBox(), EncodingWidget(children=(VBox(children=(HTML(value='Encoding:'), Dropdown(description='…"
      ]
     },
     "metadata": {},
     "output_type": "display_data"
    },
    {
     "data": {
      "application/vnd.jupyter.widget-view+json": {
       "model_id": "179839430a1140909faadea8ccf8bf30",
       "version_major": 2,
       "version_minor": 0
      },
      "text/plain": [
       "Output()"
      ]
     },
     "metadata": {},
     "output_type": "display_data"
    }
   ],
   "source": [
    "%%sql\n",
    "CREATE TABLE glue_catalog.iceberg_db.sample_table_20240809 (\n",
    "id int,\n",
    "a string,\n",
    "b int\n",
    ")\n",
    "USING iceberg\n",
    "LOCATION 's3://myemr-bucket-01/data/iceberg-folder/iceberg_db.db/sample_table_20240809/'\n",
    "TBLPROPERTIES (\n",
    "    'format' = 'iceberg/parquet',\n",
    "    'format-version' = '2',\n",
    "    'write.metadata.delete-after-commit.enabled' = 'true',\n",
    "    'write.metadata.previous-versions-max' = '5',\n",
    "    'history.expire.max-snapshot-age-ms' = '86400',\n",
    "    'history.expire.min-snapshots-to-keep' = '1',\n",
    "    'write.update.mode' = 'merge-on-read',\n",
    "    'write.delete.mode' = 'merge-on-read',\n",
    "    'write.merge.mode' = 'merge-on-read'\n",
    ")"
   ]
  },
  {
   "cell_type": "markdown",
   "id": "5439d569-9ce1-4113-b4b7-d6b1022eefe3",
   "metadata": {},
   "source": [
    "### Insert Data"
   ]
  },
  {
   "cell_type": "code",
   "execution_count": 14,
   "id": "ba0c6c09-614a-4a33-ba8a-c6a32a42f3d1",
   "metadata": {
    "execution": {
     "iopub.execute_input": "2024-08-09T12:26:37.767152Z",
     "iopub.status.busy": "2024-08-09T12:26:37.766904Z",
     "iopub.status.idle": "2024-08-09T12:26:40.077308Z",
     "shell.execute_reply": "2024-08-09T12:26:40.076561Z",
     "shell.execute_reply.started": "2024-08-09T12:26:37.767120Z"
    },
    "tags": []
   },
   "outputs": [
    {
     "data": {
      "application/vnd.jupyter.widget-view+json": {
       "model_id": "",
       "version_major": 2,
       "version_minor": 0
      },
      "text/plain": [
       "FloatProgress(value=0.0, bar_style='info', description='Progress:', layout=Layout(height='25px', width='50%'),…"
      ]
     },
     "metadata": {},
     "output_type": "display_data"
    },
    {
     "data": {
      "application/vnd.jupyter.widget-view+json": {
       "model_id": "6234f6849aaa4666a95925012f2750a9",
       "version_major": 2,
       "version_minor": 0
      },
      "text/plain": [
       "VBox(children=(HBox(), EncodingWidget(children=(VBox(children=(HTML(value='Encoding:'), Dropdown(description='…"
      ]
     },
     "metadata": {},
     "output_type": "display_data"
    },
    {
     "data": {
      "application/vnd.jupyter.widget-view+json": {
       "model_id": "59e9418c0f9c46da83750ddd84742757",
       "version_major": 2,
       "version_minor": 0
      },
      "text/plain": [
       "Output()"
      ]
     },
     "metadata": {},
     "output_type": "display_data"
    }
   ],
   "source": [
    "%%sql\n",
    "insert into glue_catalog.iceberg_db.sample_table_20240809 values \n",
    "(1,'test01',10),\n",
    "(2,'test02',20),\n",
    "(3,'test03',30);"
   ]
  },
  {
   "cell_type": "code",
   "execution_count": 15,
   "id": "0d6b09a1-3dbd-40ad-935a-22f7a69542c5",
   "metadata": {
    "execution": {
     "iopub.execute_input": "2024-08-09T12:26:42.645698Z",
     "iopub.status.busy": "2024-08-09T12:26:42.645444Z",
     "iopub.status.idle": "2024-08-09T12:26:44.954978Z",
     "shell.execute_reply": "2024-08-09T12:26:44.954183Z",
     "shell.execute_reply.started": "2024-08-09T12:26:42.645667Z"
    }
   },
   "outputs": [
    {
     "data": {
      "application/vnd.jupyter.widget-view+json": {
       "model_id": "",
       "version_major": 2,
       "version_minor": 0
      },
      "text/plain": [
       "FloatProgress(value=0.0, bar_style='info', description='Progress:', layout=Layout(height='25px', width='50%'),…"
      ]
     },
     "metadata": {},
     "output_type": "display_data"
    },
    {
     "data": {
      "application/vnd.jupyter.widget-view+json": {
       "model_id": "bba2bf9b4978475e8e1c47537ae5da5f",
       "version_major": 2,
       "version_minor": 0
      },
      "text/plain": [
       "VBox(children=(HBox(), EncodingWidget(children=(VBox(children=(HTML(value='Encoding:'), Dropdown(description='…"
      ]
     },
     "metadata": {},
     "output_type": "display_data"
    },
    {
     "data": {
      "application/vnd.jupyter.widget-view+json": {
       "model_id": "4486fec640564dea9be10ae841fa59c2",
       "version_major": 2,
       "version_minor": 0
      },
      "text/plain": [
       "Output()"
      ]
     },
     "metadata": {},
     "output_type": "display_data"
    }
   ],
   "source": [
    "%%sql\n",
    "insert into glue_catalog.iceberg_db.sample_table_20240809 values \n",
    "(4,'test04',40),\n",
    "(5,'test05',50),\n",
    "(6,'test06',60);"
   ]
  },
  {
   "cell_type": "code",
   "execution_count": 16,
   "id": "afaa26ac-e82f-4bb6-906a-119b71f72361",
   "metadata": {
    "execution": {
     "iopub.execute_input": "2024-08-09T12:27:09.020260Z",
     "iopub.status.busy": "2024-08-09T12:27:09.019999Z",
     "iopub.status.idle": "2024-08-09T12:27:10.322490Z",
     "shell.execute_reply": "2024-08-09T12:27:10.321797Z",
     "shell.execute_reply.started": "2024-08-09T12:27:09.020227Z"
    },
    "tags": []
   },
   "outputs": [
    {
     "data": {
      "application/vnd.jupyter.widget-view+json": {
       "model_id": "",
       "version_major": 2,
       "version_minor": 0
      },
      "text/plain": [
       "FloatProgress(value=0.0, bar_style='info', description='Progress:', layout=Layout(height='25px', width='50%'),…"
      ]
     },
     "metadata": {},
     "output_type": "display_data"
    },
    {
     "data": {
      "application/vnd.jupyter.widget-view+json": {
       "model_id": "043a43d9a40c495c847e84788ae75469",
       "version_major": 2,
       "version_minor": 0
      },
      "text/plain": [
       "VBox(children=(HBox(), EncodingWidget(children=(VBox(children=(HTML(value='Encoding:'), Dropdown(description='…"
      ]
     },
     "metadata": {},
     "output_type": "display_data"
    },
    {
     "data": {
      "application/vnd.jupyter.widget-view+json": {
       "model_id": "bfe35d52e29649389df35e25552d6a5d",
       "version_major": 2,
       "version_minor": 0
      },
      "text/plain": [
       "Output()"
      ]
     },
     "metadata": {},
     "output_type": "display_data"
    }
   ],
   "source": [
    "%%sql\n",
    "insert into glue_catalog.iceberg_db.sample_table_20240809 values \n",
    "(7,'test07',70),\n",
    "(8,'test08',80),\n",
    "(9,'test09',90);"
   ]
  },
  {
   "cell_type": "code",
   "execution_count": 20,
   "id": "7391f486-2e1c-4b87-8e2e-089b4911b05e",
   "metadata": {
    "execution": {
     "iopub.execute_input": "2024-08-09T12:29:03.418341Z",
     "iopub.status.busy": "2024-08-09T12:29:03.418077Z",
     "iopub.status.idle": "2024-08-09T12:29:12.757422Z",
     "shell.execute_reply": "2024-08-09T12:29:12.756703Z",
     "shell.execute_reply.started": "2024-08-09T12:29:03.418306Z"
    }
   },
   "outputs": [
    {
     "data": {
      "application/vnd.jupyter.widget-view+json": {
       "model_id": "",
       "version_major": 2,
       "version_minor": 0
      },
      "text/plain": [
       "FloatProgress(value=0.0, bar_style='info', description='Progress:', layout=Layout(height='25px', width='50%'),…"
      ]
     },
     "metadata": {},
     "output_type": "display_data"
    },
    {
     "data": {
      "application/vnd.jupyter.widget-view+json": {
       "model_id": "a8420a5b7934476a95c635bf0619b88f",
       "version_major": 2,
       "version_minor": 0
      },
      "text/plain": [
       "VBox(children=(HBox(), EncodingWidget(children=(VBox(children=(HTML(value='Encoding:'), Dropdown(description='…"
      ]
     },
     "metadata": {},
     "output_type": "display_data"
    },
    {
     "data": {
      "application/vnd.jupyter.widget-view+json": {
       "model_id": "dd3de1e4dc284c8296fc4bdd802d3fe7",
       "version_major": 2,
       "version_minor": 0
      },
      "text/plain": [
       "Output()"
      ]
     },
     "metadata": {},
     "output_type": "display_data"
    }
   ],
   "source": [
    "%%sql\n",
    "insert into glue_catalog.iceberg_db.sample_table_20240809 values \n",
    "(10,'test10',100),\n",
    "(11,'test12',110),\n",
    "(12,'test13',120);"
   ]
  },
  {
   "cell_type": "code",
   "execution_count": 21,
   "id": "7681b433-438f-4fbd-a98c-d0b7ccf958b7",
   "metadata": {
    "execution": {
     "iopub.execute_input": "2024-08-09T12:29:28.022483Z",
     "iopub.status.busy": "2024-08-09T12:29:28.022213Z",
     "iopub.status.idle": "2024-08-09T12:29:29.335501Z",
     "shell.execute_reply": "2024-08-09T12:29:29.334822Z",
     "shell.execute_reply.started": "2024-08-09T12:29:28.022451Z"
    }
   },
   "outputs": [
    {
     "data": {
      "application/vnd.jupyter.widget-view+json": {
       "model_id": "",
       "version_major": 2,
       "version_minor": 0
      },
      "text/plain": [
       "FloatProgress(value=0.0, bar_style='info', description='Progress:', layout=Layout(height='25px', width='50%'),…"
      ]
     },
     "metadata": {},
     "output_type": "display_data"
    },
    {
     "data": {
      "application/vnd.jupyter.widget-view+json": {
       "model_id": "6606f986e4d34b6faa45c60c14aeee6d",
       "version_major": 2,
       "version_minor": 0
      },
      "text/plain": [
       "VBox(children=(HBox(), EncodingWidget(children=(VBox(children=(HTML(value='Encoding:'), Dropdown(description='…"
      ]
     },
     "metadata": {},
     "output_type": "display_data"
    },
    {
     "data": {
      "application/vnd.jupyter.widget-view+json": {
       "model_id": "af4c638e443b4e18b0f56259213c80bd",
       "version_major": 2,
       "version_minor": 0
      },
      "text/plain": [
       "Output()"
      ]
     },
     "metadata": {},
     "output_type": "display_data"
    }
   ],
   "source": [
    "%%sql\n",
    "insert into glue_catalog.iceberg_db.sample_table_20240809 values \n",
    "(13,'test13',130),\n",
    "(14,'test14',140),\n",
    "(15,'test15',150);"
   ]
  },
  {
   "cell_type": "code",
   "execution_count": 23,
   "id": "38fe3132-f272-4c28-b002-71fbe367e3bd",
   "metadata": {
    "execution": {
     "iopub.execute_input": "2024-08-09T12:30:26.827676Z",
     "iopub.status.busy": "2024-08-09T12:30:26.827410Z",
     "iopub.status.idle": "2024-08-09T12:30:29.151776Z",
     "shell.execute_reply": "2024-08-09T12:30:29.150988Z",
     "shell.execute_reply.started": "2024-08-09T12:30:26.827641Z"
    }
   },
   "outputs": [
    {
     "data": {
      "application/vnd.jupyter.widget-view+json": {
       "model_id": "",
       "version_major": 2,
       "version_minor": 0
      },
      "text/plain": [
       "FloatProgress(value=0.0, bar_style='info', description='Progress:', layout=Layout(height='25px', width='50%'),…"
      ]
     },
     "metadata": {},
     "output_type": "display_data"
    },
    {
     "data": {
      "application/vnd.jupyter.widget-view+json": {
       "model_id": "90e3e77dab1a429fa3676d1e17f15bde",
       "version_major": 2,
       "version_minor": 0
      },
      "text/plain": [
       "VBox(children=(HBox(), EncodingWidget(children=(VBox(children=(HTML(value='Encoding:'), Dropdown(description='…"
      ]
     },
     "metadata": {},
     "output_type": "display_data"
    },
    {
     "data": {
      "application/vnd.jupyter.widget-view+json": {
       "model_id": "4caf93e0f7df429db7eafe80f2bd51b6",
       "version_major": 2,
       "version_minor": 0
      },
      "text/plain": [
       "Output()"
      ]
     },
     "metadata": {},
     "output_type": "display_data"
    }
   ],
   "source": [
    "%%sql\n",
    "insert into glue_catalog.iceberg_db.sample_table_20240809 values \n",
    "(16,'test16',160),\n",
    "(17,'test17',170),\n",
    "(18,'test18',180);"
   ]
  },
  {
   "cell_type": "markdown",
   "id": "d21f04ff-a190-40d1-b921-e8ea489475d2",
   "metadata": {},
   "source": [
    "这样我们分6次写入数据，然后再来观察在文件目录下的情况"
   ]
  },
  {
   "cell_type": "code",
   "execution_count": 24,
   "id": "15ca7826-eaac-4132-bcbf-64c527631940",
   "metadata": {
    "execution": {
     "iopub.execute_input": "2024-08-09T12:31:05.078320Z",
     "iopub.status.busy": "2024-08-09T12:31:05.078062Z",
     "iopub.status.idle": "2024-08-09T12:31:05.868221Z",
     "shell.execute_reply": "2024-08-09T12:31:05.867321Z",
     "shell.execute_reply.started": "2024-08-09T12:31:05.078287Z"
    },
    "tags": []
   },
   "outputs": [
    {
     "name": "stdout",
     "output_type": "stream",
     "text": [
      "2024-08-09 12:26:39       2645 00001-b65a2c18-b674-4fa1-b18f-62bdd288c3b1.metadata.json\n",
      "2024-08-09 12:26:44       3750 00002-187219c4-18f6-44c5-b120-53dd119eb5a6.metadata.json\n",
      "2024-08-09 12:27:10       4854 00003-a86cbfc0-e6de-4f9a-b896-c130844dc6d6.metadata.json\n",
      "2024-08-09 12:29:12       5960 00004-94a7ab43-e3d9-426e-94c9-22eb39b3d927.metadata.json\n",
      "2024-08-09 12:29:29       7067 00005-2531dfbe-849b-4ab1-afa2-85406b74c3ab.metadata.json\n",
      "2024-08-09 12:30:28       7964 00006-27f4d74a-7a8f-40fd-9edb-5467426cd88b.metadata.json\n",
      "2024-08-09 12:29:29       6802 2c708c90-e34e-48c7-8ead-00404e3803fa-m0.avro\n",
      "2024-08-09 12:29:12       6804 302c4aa6-1e35-4231-ba45-073978d1aff7-m0.avro\n",
      "2024-08-09 12:27:10       6802 464ade3d-a575-468d-8f51-6ec77bec14aa-m0.avro\n",
      "2024-08-09 12:30:28       6810 76d80d7e-8481-47b3-b3b7-7572e46c3e98-m0.avro\n",
      "2024-08-09 12:26:39       6815 92c4f650-15ed-4128-87d9-bfcf12d5af2c-m0.avro\n",
      "2024-08-09 12:26:44       6809 f49c732b-7209-4cd4-ac76-11531ab12d25-m0.avro\n",
      "2024-08-09 12:29:29       4496 snap-1113559891675341097-1-2c708c90-e34e-48c7-8ead-00404e3803fa.avro\n",
      "2024-08-09 12:30:28       4544 snap-6023219105848465370-1-76d80d7e-8481-47b3-b3b7-7572e46c3e98.avro\n",
      "2024-08-09 12:26:44       4361 snap-6664342690343913743-1-f49c732b-7209-4cd4-ac76-11531ab12d25.avro\n",
      "2024-08-09 12:29:12       4452 snap-8010034134481240178-1-302c4aa6-1e35-4231-ba45-073978d1aff7.avro\n",
      "2024-08-09 12:26:39       4288 snap-845623601909846024-1-92c4f650-15ed-4128-87d9-bfcf12d5af2c.avro\n",
      "2024-08-09 12:27:10       4405 snap-8556450197577373579-1-464ade3d-a575-468d-8f51-6ec77bec14aa.avro\n"
     ]
    }
   ],
   "source": [
    "%%sh\n",
    "aws s3 ls s3://myemr-bucket-01/data/iceberg-folder/iceberg_db.db/sample_table_20240809/metadata/"
   ]
  },
  {
   "cell_type": "code",
   "execution_count": 25,
   "id": "f2de08ad-d537-4a7b-a84a-6eebeed03090",
   "metadata": {
    "execution": {
     "iopub.execute_input": "2024-08-09T12:31:18.867329Z",
     "iopub.status.busy": "2024-08-09T12:31:18.867053Z",
     "iopub.status.idle": "2024-08-09T12:31:19.646786Z",
     "shell.execute_reply": "2024-08-09T12:31:19.645925Z",
     "shell.execute_reply.started": "2024-08-09T12:31:18.867293Z"
    }
   },
   "outputs": [
    {
     "name": "stdout",
     "output_type": "stream",
     "text": [
      "2024-08-09 12:26:43        804 00000-12-e8faa9e2-18e9-4aa1-9dce-ee8d5bff0adb-00001.parquet\n",
      "2024-08-09 12:27:10        804 00000-15-a36af0e9-3fe2-4ef8-a745-c0bb8c0c04cc-00001.parquet\n",
      "2024-08-09 12:29:11        804 00000-18-6c2bc256-af53-4298-b701-cc5bb85c6be2-00001.parquet\n",
      "2024-08-09 12:29:29        804 00000-20-c8f2e180-0424-46bd-83ca-64fa0fda1330-00001.parquet\n",
      "2024-08-09 12:30:28        804 00000-23-608cdd88-d8e6-49ac-905d-c59a0c4264a4-00001.parquet\n",
      "2024-08-09 12:26:39        803 00000-9-ba0eda63-f999-42a7-a313-2c5b098d2019-00001.parquet\n",
      "2024-08-09 12:26:39        804 00001-10-ba0eda63-f999-42a7-a313-2c5b098d2019-00001.parquet\n",
      "2024-08-09 12:26:43        803 00001-13-e8faa9e2-18e9-4aa1-9dce-ee8d5bff0adb-00001.parquet\n",
      "2024-08-09 12:27:10        804 00001-16-a36af0e9-3fe2-4ef8-a745-c0bb8c0c04cc-00001.parquet\n",
      "2024-08-09 12:29:11        803 00001-19-6c2bc256-af53-4298-b701-cc5bb85c6be2-00001.parquet\n",
      "2024-08-09 12:29:29        804 00001-21-c8f2e180-0424-46bd-83ca-64fa0fda1330-00001.parquet\n",
      "2024-08-09 12:30:28        803 00001-24-608cdd88-d8e6-49ac-905d-c59a0c4264a4-00001.parquet\n",
      "2024-08-09 12:26:39        803 00002-11-ba0eda63-f999-42a7-a313-2c5b098d2019-00001.parquet\n",
      "2024-08-09 12:26:43        804 00002-14-e8faa9e2-18e9-4aa1-9dce-ee8d5bff0adb-00001.parquet\n",
      "2024-08-09 12:27:10        804 00002-17-a36af0e9-3fe2-4ef8-a745-c0bb8c0c04cc-00001.parquet\n",
      "2024-08-09 12:29:29        804 00002-22-c8f2e180-0424-46bd-83ca-64fa0fda1330-00001.parquet\n",
      "2024-08-09 12:30:28        804 00002-25-608cdd88-d8e6-49ac-905d-c59a0c4264a4-00001.parquet\n"
     ]
    }
   ],
   "source": [
    "%%sh\n",
    "aws s3 ls s3://myemr-bucket-01/data/iceberg-folder/iceberg_db.db/sample_table_20240809/data/"
   ]
  },
  {
   "cell_type": "markdown",
   "id": "cf5955a1-fc75-478a-8b9a-d340f20f67c3",
   "metadata": {},
   "source": [
    "### 小文件合并 rewrite_data_files"
   ]
  },
  {
   "cell_type": "code",
   "execution_count": 28,
   "id": "f5be3245-669c-4348-94bb-455e029a4763",
   "metadata": {
    "execution": {
     "iopub.execute_input": "2024-08-09T12:33:24.314610Z",
     "iopub.status.busy": "2024-08-09T12:33:24.314349Z",
     "iopub.status.idle": "2024-08-09T12:33:39.753568Z",
     "shell.execute_reply": "2024-08-09T12:33:39.752913Z",
     "shell.execute_reply.started": "2024-08-09T12:33:24.314578Z"
    },
    "tags": []
   },
   "outputs": [
    {
     "data": {
      "application/vnd.jupyter.widget-view+json": {
       "model_id": "",
       "version_major": 2,
       "version_minor": 0
      },
      "text/plain": [
       "FloatProgress(value=0.0, bar_style='info', description='Progress:', layout=Layout(height='25px', width='50%'),…"
      ]
     },
     "metadata": {},
     "output_type": "display_data"
    },
    {
     "data": {
      "application/vnd.jupyter.widget-view+json": {
       "model_id": "41897c97eb374b3691d2eff276b8faeb",
       "version_major": 2,
       "version_minor": 0
      },
      "text/plain": [
       "VBox(children=(HBox(children=(HTML(value='Type:'), Button(description='Table', layout=Layout(width='70px'), st…"
      ]
     },
     "metadata": {},
     "output_type": "display_data"
    },
    {
     "data": {
      "application/vnd.jupyter.widget-view+json": {
       "model_id": "28445a58ae974b589cdf7e7e0f9c2e90",
       "version_major": 2,
       "version_minor": 0
      },
      "text/plain": [
       "Output()"
      ]
     },
     "metadata": {},
     "output_type": "display_data"
    }
   ],
   "source": [
    "%%sql\n",
    "CALL glue_catalog.system.rewrite_data_files('iceberg_db.sample_table_20240809')"
   ]
  },
  {
   "cell_type": "markdown",
   "id": "61b96585-7682-465e-acaf-bccf4b6d91f5",
   "metadata": {},
   "source": [
    "执行小文件合并命令后，可以看到返回结果中，已经提示合并了17个文件，增加了一个文件。接着我们再看一下现在文件目录中 metadata 和 data 中的文件情况。"
   ]
  },
  {
   "cell_type": "code",
   "execution_count": 35,
   "id": "bb6f4b13-02b2-4b15-b104-fb186f6df371",
   "metadata": {
    "execution": {
     "iopub.execute_input": "2024-08-09T12:38:27.816434Z",
     "iopub.status.busy": "2024-08-09T12:38:27.816161Z",
     "iopub.status.idle": "2024-08-09T12:38:28.576147Z",
     "shell.execute_reply": "2024-08-09T12:38:28.575367Z",
     "shell.execute_reply.started": "2024-08-09T12:38:27.816397Z"
    },
    "tags": []
   },
   "outputs": [
    {
     "name": "stdout",
     "output_type": "stream",
     "text": [
      "2024-08-09 12:26:43        804 00000-12-e8faa9e2-18e9-4aa1-9dce-ee8d5bff0adb-00001.parquet\n",
      "2024-08-09 12:27:10        804 00000-15-a36af0e9-3fe2-4ef8-a745-c0bb8c0c04cc-00001.parquet\n",
      "2024-08-09 12:29:11        804 00000-18-6c2bc256-af53-4298-b701-cc5bb85c6be2-00001.parquet\n",
      "2024-08-09 12:29:29        804 00000-20-c8f2e180-0424-46bd-83ca-64fa0fda1330-00001.parquet\n",
      "2024-08-09 12:30:28        804 00000-23-608cdd88-d8e6-49ac-905d-c59a0c4264a4-00001.parquet\n",
      "2024-08-09 12:33:34        951 00000-26-7127a9c2-52ba-4d58-8eea-e91d0be607a3-00001.parquet\n",
      "2024-08-09 12:26:39        803 00000-9-ba0eda63-f999-42a7-a313-2c5b098d2019-00001.parquet\n",
      "2024-08-09 12:26:39        804 00001-10-ba0eda63-f999-42a7-a313-2c5b098d2019-00001.parquet\n",
      "2024-08-09 12:26:43        803 00001-13-e8faa9e2-18e9-4aa1-9dce-ee8d5bff0adb-00001.parquet\n",
      "2024-08-09 12:27:10        804 00001-16-a36af0e9-3fe2-4ef8-a745-c0bb8c0c04cc-00001.parquet\n",
      "2024-08-09 12:29:11        803 00001-19-6c2bc256-af53-4298-b701-cc5bb85c6be2-00001.parquet\n",
      "2024-08-09 12:29:29        804 00001-21-c8f2e180-0424-46bd-83ca-64fa0fda1330-00001.parquet\n",
      "2024-08-09 12:30:28        803 00001-24-608cdd88-d8e6-49ac-905d-c59a0c4264a4-00001.parquet\n",
      "2024-08-09 12:26:39        803 00002-11-ba0eda63-f999-42a7-a313-2c5b098d2019-00001.parquet\n",
      "2024-08-09 12:26:43        804 00002-14-e8faa9e2-18e9-4aa1-9dce-ee8d5bff0adb-00001.parquet\n",
      "2024-08-09 12:27:10        804 00002-17-a36af0e9-3fe2-4ef8-a745-c0bb8c0c04cc-00001.parquet\n",
      "2024-08-09 12:29:29        804 00002-22-c8f2e180-0424-46bd-83ca-64fa0fda1330-00001.parquet\n",
      "2024-08-09 12:30:28        804 00002-25-608cdd88-d8e6-49ac-905d-c59a0c4264a4-00001.parquet\n",
      "\n",
      "Total Objects: 18\n",
      "   Total Size: 14614\n"
     ]
    }
   ],
   "source": [
    "%%sh\n",
    "aws s3 ls --summarize s3://myemr-bucket-01/data/iceberg-folder/iceberg_db.db/sample_table_20240809/data/"
   ]
  },
  {
   "cell_type": "markdown",
   "id": "40627d13-83c0-48c9-919f-edff67e097b9",
   "metadata": {},
   "source": [
    "这个时候我们观察到，17个文件合并到了一个文件中 `00000-26-7127a9c2-52ba-4d58-8eea-e91d0be607a3-00001.parquet`"
   ]
  },
  {
   "cell_type": "code",
   "execution_count": 30,
   "id": "5ee4f8bd-164f-4780-acdb-ffddf2a291f6",
   "metadata": {
    "execution": {
     "iopub.execute_input": "2024-08-09T12:35:54.045435Z",
     "iopub.status.busy": "2024-08-09T12:35:54.045165Z",
     "iopub.status.idle": "2024-08-09T12:35:54.801028Z",
     "shell.execute_reply": "2024-08-09T12:35:54.800198Z",
     "shell.execute_reply.started": "2024-08-09T12:35:54.045400Z"
    }
   },
   "outputs": [
    {
     "name": "stdout",
     "output_type": "stream",
     "text": [
      "2024-08-09 12:26:44       3750 00002-187219c4-18f6-44c5-b120-53dd119eb5a6.metadata.json\n",
      "2024-08-09 12:27:10       4854 00003-a86cbfc0-e6de-4f9a-b896-c130844dc6d6.metadata.json\n",
      "2024-08-09 12:29:12       5960 00004-94a7ab43-e3d9-426e-94c9-22eb39b3d927.metadata.json\n",
      "2024-08-09 12:29:29       7067 00005-2531dfbe-849b-4ab1-afa2-85406b74c3ab.metadata.json\n",
      "2024-08-09 12:30:28       7964 00006-27f4d74a-7a8f-40fd-9edb-5467426cd88b.metadata.json\n",
      "2024-08-09 12:33:35       8907 00007-16785830-4dd4-4c15-b2f6-260b90ded345.metadata.json\n",
      "2024-08-09 12:33:35       6802 1623bf74-4813-45a7-b7c8-935d0d16a2a2-m0.avro\n",
      "2024-08-09 12:33:35       6813 1623bf74-4813-45a7-b7c8-935d0d16a2a2-m1.avro\n",
      "2024-08-09 12:33:35       6802 1623bf74-4813-45a7-b7c8-935d0d16a2a2-m2.avro\n",
      "2024-08-09 12:33:35       6802 1623bf74-4813-45a7-b7c8-935d0d16a2a2-m3.avro\n",
      "2024-08-09 12:33:35       6808 1623bf74-4813-45a7-b7c8-935d0d16a2a2-m4.avro\n",
      "2024-08-09 12:33:35       6815 1623bf74-4813-45a7-b7c8-935d0d16a2a2-m5.avro\n",
      "2024-08-09 12:33:35       6774 1623bf74-4813-45a7-b7c8-935d0d16a2a2-m6.avro\n",
      "2024-08-09 12:29:29       6802 2c708c90-e34e-48c7-8ead-00404e3803fa-m0.avro\n",
      "2024-08-09 12:29:12       6804 302c4aa6-1e35-4231-ba45-073978d1aff7-m0.avro\n",
      "2024-08-09 12:27:10       6802 464ade3d-a575-468d-8f51-6ec77bec14aa-m0.avro\n",
      "2024-08-09 12:30:28       6810 76d80d7e-8481-47b3-b3b7-7572e46c3e98-m0.avro\n",
      "2024-08-09 12:26:39       6815 92c4f650-15ed-4128-87d9-bfcf12d5af2c-m0.avro\n",
      "2024-08-09 12:26:44       6809 f49c732b-7209-4cd4-ac76-11531ab12d25-m0.avro\n",
      "2024-08-09 12:29:29       4496 snap-1113559891675341097-1-2c708c90-e34e-48c7-8ead-00404e3803fa.avro\n",
      "2024-08-09 12:33:35       4356 snap-2054820751024383862-1-1623bf74-4813-45a7-b7c8-935d0d16a2a2.avro\n",
      "2024-08-09 12:30:28       4544 snap-6023219105848465370-1-76d80d7e-8481-47b3-b3b7-7572e46c3e98.avro\n",
      "2024-08-09 12:26:44       4361 snap-6664342690343913743-1-f49c732b-7209-4cd4-ac76-11531ab12d25.avro\n",
      "2024-08-09 12:29:12       4452 snap-8010034134481240178-1-302c4aa6-1e35-4231-ba45-073978d1aff7.avro\n",
      "2024-08-09 12:26:39       4288 snap-845623601909846024-1-92c4f650-15ed-4128-87d9-bfcf12d5af2c.avro\n",
      "2024-08-09 12:27:10       4405 snap-8556450197577373579-1-464ade3d-a575-468d-8f51-6ec77bec14aa.avro\n"
     ]
    }
   ],
   "source": [
    "%%sh\n",
    "aws s3 ls s3://myemr-bucket-01/data/iceberg-folder/iceberg_db.db/sample_table_20240809/metadata/"
   ]
  },
  {
   "cell_type": "markdown",
   "id": "c3174f92-6ef1-40af-818d-71bbbee54970",
   "metadata": {},
   "source": [
    "这个时候我们可以看到已经有7个 snapshot 文件，如果想再确认一次，可以通过以下命令，查看当前snapshot对应的文件。"
   ]
  },
  {
   "cell_type": "code",
   "execution_count": 37,
   "id": "755be11e-db8c-4291-bf2a-26a94442d51b",
   "metadata": {
    "execution": {
     "iopub.execute_input": "2024-08-09T12:44:26.282950Z",
     "iopub.status.busy": "2024-08-09T12:44:26.282692Z",
     "iopub.status.idle": "2024-08-09T12:44:27.632039Z",
     "shell.execute_reply": "2024-08-09T12:44:27.631324Z",
     "shell.execute_reply.started": "2024-08-09T12:44:26.282918Z"
    },
    "tags": []
   },
   "outputs": [
    {
     "data": {
      "application/vnd.jupyter.widget-view+json": {
       "model_id": "",
       "version_major": 2,
       "version_minor": 0
      },
      "text/plain": [
       "FloatProgress(value=0.0, bar_style='info', description='Progress:', layout=Layout(height='25px', width='50%'),…"
      ]
     },
     "metadata": {},
     "output_type": "display_data"
    },
    {
     "data": {
      "application/vnd.jupyter.widget-view+json": {
       "model_id": "ce97930e8bdf492295f7e04455257b4f",
       "version_major": 2,
       "version_minor": 0
      },
      "text/plain": [
       "VBox(children=(HBox(children=(HTML(value='Type:'), Button(description='Table', layout=Layout(width='70px'), st…"
      ]
     },
     "metadata": {},
     "output_type": "display_data"
    },
    {
     "data": {
      "application/vnd.jupyter.widget-view+json": {
       "model_id": "4483b76794b543f2aef782a0ebfe51cd",
       "version_major": 2,
       "version_minor": 0
      },
      "text/plain": [
       "Output()"
      ]
     },
     "metadata": {},
     "output_type": "display_data"
    }
   ],
   "source": [
    "%%sql\n",
    "select file_path from glue_catalog.iceberg_db.sample_table_20240809.files"
   ]
  },
  {
   "cell_type": "markdown",
   "id": "72a8c9a7-9a1b-4317-bb52-62748ddf1d99",
   "metadata": {},
   "source": [
    "那么，现在文件是合并到了一个文件中，但是会有历史的 snapshot 文件仍然还是占用空间的。所以我们要考虑的是如何清理这些历史的文件。"
   ]
  },
  {
   "cell_type": "markdown",
   "id": "6ae057cb-769a-4cfa-9ead-f7b367845dec",
   "metadata": {},
   "source": [
    "### expire_snapshots\n",
    "\n",
    "首先清理过期的 snapshot<br>\n",
    "\n",
    "另外，需要清楚一个概念，Iceberg 的每次 write/update/delete/upsert/compaction 都会产生一个新快照，同时保留旧数据和元数据，以实现快照隔离和时间旅行。expire_snapshots 程序可用于删除不再需要的旧快照及其文件。<br>\n",
    "\n",
    "该存储过程将删除旧快照和这些旧快照唯一需要的数据文件。这意味着 expire_snapshots 存储过程永远不会删除非过期快照仍然需要的文件。<br>\n",
    "对于之前写入样例数据的表，我们设置将 `2024-08-09 12:33:00` 之前的快照过期"
   ]
  },
  {
   "cell_type": "code",
   "execution_count": 44,
   "id": "a8f79955-7d4b-4cc3-94d2-b6eddc805da0",
   "metadata": {
    "execution": {
     "iopub.execute_input": "2024-08-09T12:57:38.417007Z",
     "iopub.status.busy": "2024-08-09T12:57:38.416731Z",
     "iopub.status.idle": "2024-08-09T12:58:03.872495Z",
     "shell.execute_reply": "2024-08-09T12:58:03.871834Z",
     "shell.execute_reply.started": "2024-08-09T12:57:38.416975Z"
    },
    "tags": []
   },
   "outputs": [
    {
     "data": {
      "application/vnd.jupyter.widget-view+json": {
       "model_id": "",
       "version_major": 2,
       "version_minor": 0
      },
      "text/plain": [
       "FloatProgress(value=0.0, bar_style='info', description='Progress:', layout=Layout(height='25px', width='50%'),…"
      ]
     },
     "metadata": {},
     "output_type": "display_data"
    },
    {
     "data": {
      "application/vnd.jupyter.widget-view+json": {
       "model_id": "2e02045c0e3a4fb3814c17fdbed33508",
       "version_major": 2,
       "version_minor": 0
      },
      "text/plain": [
       "VBox(children=(HBox(children=(HTML(value='Type:'), Button(description='Table', layout=Layout(width='70px'), st…"
      ]
     },
     "metadata": {},
     "output_type": "display_data"
    },
    {
     "data": {
      "application/vnd.jupyter.widget-view+json": {
       "model_id": "14329ed448b84023a7946c9fb9f541eb",
       "version_major": 2,
       "version_minor": 0
      },
      "text/plain": [
       "Output()"
      ]
     },
     "metadata": {},
     "output_type": "display_data"
    }
   ],
   "source": [
    "%%sql\n",
    "CALL glue_catalog.system.expire_snapshots(table => 'iceberg_db.sample_table_20240809',older_than => TIMESTAMP '2024-08-09 12:33:00')"
   ]
  },
  {
   "cell_type": "markdown",
   "id": "f928e58b-1cc1-47a3-9946-3cd17ff24ccd",
   "metadata": {},
   "source": [
    "根据返回的结果，可以看到 manifest list 文件删除了 6个， manifest file 也删除了6个，并且文件删除了17个，这时候我们再来检查 metadata 目录和data目录下的文件数量"
   ]
  },
  {
   "cell_type": "code",
   "execution_count": 47,
   "id": "035995ed-852d-4bd9-bbb8-60150569a223",
   "metadata": {
    "execution": {
     "iopub.execute_input": "2024-08-09T12:59:51.106194Z",
     "iopub.status.busy": "2024-08-09T12:59:51.105903Z",
     "iopub.status.idle": "2024-08-09T12:59:51.884336Z",
     "shell.execute_reply": "2024-08-09T12:59:51.883501Z",
     "shell.execute_reply.started": "2024-08-09T12:59:51.106157Z"
    },
    "tags": []
   },
   "outputs": [
    {
     "name": "stdout",
     "output_type": "stream",
     "text": [
      "2024-08-09 12:29:12       5960 00004-94a7ab43-e3d9-426e-94c9-22eb39b3d927.metadata.json\n",
      "2024-08-09 12:29:29       7067 00005-2531dfbe-849b-4ab1-afa2-85406b74c3ab.metadata.json\n",
      "2024-08-09 12:30:28       7964 00006-27f4d74a-7a8f-40fd-9edb-5467426cd88b.metadata.json\n",
      "2024-08-09 12:33:35       8907 00007-16785830-4dd4-4c15-b2f6-260b90ded345.metadata.json\n",
      "2024-08-09 12:49:29       6277 00008-6b7c8400-ff10-4728-8bde-da1374fa3a42.metadata.json\n",
      "2024-08-09 12:57:39       3587 00009-64dc227a-53f2-44fa-9047-61f4a1f01d8f.metadata.json\n",
      "2024-08-09 12:33:35       6802 1623bf74-4813-45a7-b7c8-935d0d16a2a2-m0.avro\n",
      "2024-08-09 12:33:35       6813 1623bf74-4813-45a7-b7c8-935d0d16a2a2-m1.avro\n",
      "2024-08-09 12:33:35       6802 1623bf74-4813-45a7-b7c8-935d0d16a2a2-m2.avro\n",
      "2024-08-09 12:33:35       6802 1623bf74-4813-45a7-b7c8-935d0d16a2a2-m3.avro\n",
      "2024-08-09 12:33:35       6808 1623bf74-4813-45a7-b7c8-935d0d16a2a2-m4.avro\n",
      "2024-08-09 12:33:35       6815 1623bf74-4813-45a7-b7c8-935d0d16a2a2-m5.avro\n",
      "2024-08-09 12:33:35       6774 1623bf74-4813-45a7-b7c8-935d0d16a2a2-m6.avro\n",
      "2024-08-09 12:33:35       4356 snap-2054820751024383862-1-1623bf74-4813-45a7-b7c8-935d0d16a2a2.avro\n"
     ]
    }
   ],
   "source": [
    "%%sh\n",
    "aws s3 ls s3://myemr-bucket-01/data/iceberg-folder/iceberg_db.db/sample_table_20240809/metadata/"
   ]
  },
  {
   "cell_type": "markdown",
   "id": "c087aa83-db4d-4e17-afb1-70797a5c10f0",
   "metadata": {},
   "source": [
    "清理过期快照后，我们可以在查看一下当前的数据文件，可以看到这个时候data目录下的文件只有一个了，并且 snapshot 文件只有一个了。"
   ]
  },
  {
   "cell_type": "code",
   "execution_count": 46,
   "id": "2889a1b3-44fd-4dfb-b5db-ed835877bf52",
   "metadata": {
    "execution": {
     "iopub.execute_input": "2024-08-09T12:58:32.590013Z",
     "iopub.status.busy": "2024-08-09T12:58:32.589776Z",
     "iopub.status.idle": "2024-08-09T12:58:33.363424Z",
     "shell.execute_reply": "2024-08-09T12:58:33.362573Z",
     "shell.execute_reply.started": "2024-08-09T12:58:32.589978Z"
    },
    "tags": []
   },
   "outputs": [
    {
     "name": "stdout",
     "output_type": "stream",
     "text": [
      "2024-08-09 12:33:34        951 00000-26-7127a9c2-52ba-4d58-8eea-e91d0be607a3-00001.parquet\n"
     ]
    }
   ],
   "source": [
    "%%sh\n",
    "aws s3 ls s3://myemr-bucket-01/data/iceberg-folder/iceberg_db.db/sample_table_20240809/data/"
   ]
  }
 ],
 "metadata": {
  "kernelspec": {
   "display_name": "PySpark",
   "language": "python",
   "name": "pysparkkernel"
  },
  "language_info": {
   "codemirror_mode": {
    "name": "python",
    "version": 3
   },
   "file_extension": ".py",
   "mimetype": "text/x-python",
   "name": "pyspark",
   "pygments_lexer": "python3"
  }
 },
 "nbformat": 4,
 "nbformat_minor": 5
}
