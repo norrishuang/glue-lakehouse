{
 "cells": [
  {
   "cell_type": "markdown",
   "id": "1e066621-a0b5-4366-8bf8-5dda9e9bf17c",
   "metadata": {},
   "source": [
    "# Iceberg Workshop"
   ]
  },
  {
   "cell_type": "markdown",
   "id": "0fac904d-f125-48a1-ac37-9085eaa846db",
   "metadata": {},
   "source": [
    "## 环境准备"
   ]
  },
  {
   "cell_type": "code",
   "execution_count": 14,
   "id": "f04cead9-aaf6-4bd8-b611-52091a5e7f94",
   "metadata": {
    "execution": {
     "iopub.execute_input": "2024-01-26T13:18:35.500186Z",
     "iopub.status.busy": "2024-01-26T13:18:35.499943Z",
     "iopub.status.idle": "2024-01-26T13:18:35.505746Z",
     "shell.execute_reply": "2024-01-26T13:18:35.505110Z",
     "shell.execute_reply.started": "2024-01-26T13:18:35.500157Z"
    }
   },
   "outputs": [
    {
     "data": {
      "text/html": [
       "\n",
       "<table>\n",
       "  <tr>\n",
       "    <th>Magic</th>\n",
       "    <th>Example</th>\n",
       "    <th>Explanation</th>\n",
       "  </tr>\n",
       "  <tr>\n",
       "    <td>info</td>\n",
       "    <td>%%info</td>\n",
       "    <td>Outputs session information for the current Livy endpoint.</td>\n",
       "  </tr>\n",
       "  <tr>\n",
       "    <td>cleanup</td>\n",
       "    <td>%%cleanup -f</td>\n",
       "    <td>Deletes all sessions for the current Livy endpoint, including this notebook's session. The force flag is mandatory.</td>\n",
       "  </tr>\n",
       "  <tr>\n",
       "    <td>delete</td>\n",
       "    <td>%%delete -f -s 0</td>\n",
       "    <td>Deletes a session by number for the current Livy endpoint. Cannot delete this kernel's session.</td>\n",
       "  </tr>\n",
       "  <tr>\n",
       "    <td>logs</td>\n",
       "    <td>%%logs</td>\n",
       "    <td>Outputs the current session's Livy logs.</td>\n",
       "  </tr>\n",
       "  <tr>\n",
       "    <td>configure</td>\n",
       "    <td>%%configure -f<br/>{\"executorMemory\": \"1000M\", \"executorCores\": 4}</td>\n",
       "    <td>Configure the session creation parameters. The force flag is mandatory if a session has already been\n",
       "    created and the session will be dropped and recreated.<br/>Look at <a href=\"https://github.com/cloudera/livy#request-body\">\n",
       "    Livy's POST /sessions Request Body</a> for a list of valid parameters. Parameters must be passed in as a JSON string.</td>\n",
       "  </tr>\n",
       "  <tr>\n",
       "    <td>spark</td>\n",
       "    <td>%%spark -o df<br/>df = spark.read.parquet('...</td>\n",
       "    <td>Executes spark commands.\n",
       "    Parameters:\n",
       "      <ul>\n",
       "        <li>-o VAR_NAME: The Spark dataframe of name VAR_NAME will be available in the %%local Python context as a\n",
       "          <a href=\"http://pandas.pydata.org/\">Pandas</a> dataframe with the same name.</li>\n",
       "        <li>-m METHOD: Sample method, either <tt>take</tt> or <tt>sample</tt>.</li>\n",
       "        <li>-n MAXROWS: The maximum number of rows of a dataframe that will be pulled from Livy to Jupyter.\n",
       "            If this number is negative, then the number of rows will be unlimited.</li>\n",
       "        <li>-r FRACTION: Fraction used for sampling.</li>\n",
       "      </ul>\n",
       "    </td>\n",
       "  </tr>\n",
       "  <tr>\n",
       "    <td>display</td>\n",
       "    <td>%%display -n 100<br/>my_spark_df</td>\n",
       "    <td>Displays Spark dataframe as a beautiful HTML table with horizontal and vertical scroll bars(if necessary).\n",
       "    Parameters:\n",
       "      <ul>\n",
       "        <li>-m METHOD: Sample method, either <tt>take</tt> or <tt>sample</tt>.</li>\n",
       "        <li>-n MAXROWS: The maximum number of rows of a dataframe to display.\n",
       "            If this number is negative, then the number of rows will be unlimited.</li>\n",
       "        <li>-r FRACTION: Fraction used for sampling.</li>\n",
       "      </ul>\n",
       "    </td>\n",
       "  </tr>\n",
       "  <tr>\n",
       "    <td>pyspark</td>\n",
       "    <td>%%pyspark -o df<br/>df = spark.read.parquet(...</td>\n",
       "    <td>Executes spark commands in Python.\n",
       "    Parameters:\n",
       "      <ul>\n",
       "        <li>-o, -m, -n, -r are the same as the %%spark parameters above.</li>\n",
       "      </ul>\n",
       "    </td>\n",
       "  </tr>\n",
       "  <tr>\n",
       "    <td>scalaspark</td>\n",
       "    <td>%%scalaspark -o df<br/>val df = data.toDF(...</td>\n",
       "    <td>Executes spark commands in Scala.\n",
       "    Parameters:\n",
       "      <ul>\n",
       "        <li>-o, -m, -n, -r are the same as the %%spark parameters above.</li>\n",
       "      </ul>\n",
       "    </td>\n",
       "  </tr>\n",
       "  <tr>\n",
       "    <td>rspark</td>\n",
       "    <td>%%rspark -o df<br/>df <- read.df(...</td>\n",
       "    <td>Executes spark commands in R.\n",
       "    Parameters:\n",
       "      <ul>\n",
       "        <li>-o, -m, -n, -r are the same as the %%spark parameters above.</li>\n",
       "      </ul>\n",
       "    </td>\n",
       "  </tr>\n",
       "  <tr>\n",
       "    <td>sql</td>\n",
       "    <td>%%sql -o tables -q<br/>SHOW TABLES</td>\n",
       "    <td>Executes a SQL query against the variable sqlContext (Spark v1.x) or spark (Spark v2.x).\n",
       "    Parameters:\n",
       "      <ul>\n",
       "        <li>-o VAR_NAME: The result of the SQL query will be available in the %%local Python context as a\n",
       "          <a href=\"http://pandas.pydata.org/\">Pandas</a> dataframe.</li>\n",
       "        <li>-q: The magic will return None instead of the dataframe (no visualization).</li>\n",
       "        <li>-m, -n, -r are the same as the %%spark parameters above.</li>\n",
       "      </ul>\n",
       "    </td>\n",
       "  </tr>\n",
       "  <tr>\n",
       "    <td>local</td>\n",
       "    <td>%%local<br/>a = 1</td>\n",
       "    <td>All the code in subsequent lines will be executed locally. Code must be valid Python code.</td>\n",
       "  </tr>\n",
       "  <tr>\n",
       "    <td>send_to_spark</td>\n",
       "    <td>%%send_to_spark -i variable -t str -n var</td>\n",
       "    <td>Sends a variable from local output to spark cluster.\n",
       "    <br/>\n",
       "    Parameters:\n",
       "      <ul>\n",
       "        <li>-i VAR_NAME: Local Pandas DataFrame(or String) of name VAR_NAME will be available in the %%spark context as a \n",
       "          Spark dataframe(or String) with the same name.</li>\n",
       "        <li>-t TYPE: Specifies the type of variable passed as -i. Available options are:\n",
       "         `str` for string and `df` for Pandas DataFrame. Optional, defaults to `str`.</li>\n",
       "        <li>-n NAME: Custom name of variable passed as -i. Optional, defaults to -i variable name.</li>\n",
       "        <li>-m MAXROWS: Maximum amount of Pandas rows that will be sent to Spark. Defaults to 2500.</li>\n",
       "      </ul>\n",
       "    </td>\n",
       "  </tr>\n",
       "  <tr>\n",
       "    <td>pretty</td>\n",
       "    <td>%%pretty</td>\n",
       "    <td>If the cell output is a dataframe, like <code>df.show()</code>, then it will pretty print the dataframe as an HTML table</td>\n",
       "  </tr>\n",
       "</table>\n"
      ],
      "text/plain": [
       "<IPython.core.display.HTML object>"
      ]
     },
     "metadata": {},
     "output_type": "display_data"
    }
   ],
   "source": [
    "%help"
   ]
  },
  {
   "cell_type": "markdown",
   "id": "df41fbd2-9b3c-45e7-b102-00eb50a8435c",
   "metadata": {
    "execution": {
     "iopub.execute_input": "2024-01-26T13:11:00.049986Z",
     "iopub.status.busy": "2024-01-26T13:11:00.049739Z",
     "iopub.status.idle": "2024-01-26T13:11:00.055002Z",
     "shell.execute_reply": "2024-01-26T13:11:00.054272Z",
     "shell.execute_reply.started": "2024-01-26T13:11:00.049957Z"
    },
    "tags": []
   },
   "source": [
    "#### 设置环境\n",
    "\n",
    "请提替换 `spark.sql.catalog.glue_catalog.warehouse` 为自己创建的 S3 桶"
   ]
  },
  {
   "cell_type": "code",
   "execution_count": 15,
   "id": "3b0bb4ba-5c0e-4a7d-b98d-10f88de96e51",
   "metadata": {
    "execution": {
     "iopub.execute_input": "2024-01-26T13:21:47.913509Z",
     "iopub.status.busy": "2024-01-26T13:21:47.913246Z",
     "iopub.status.idle": "2024-01-26T13:22:23.372206Z",
     "shell.execute_reply": "2024-01-26T13:22:23.371464Z",
     "shell.execute_reply.started": "2024-01-26T13:21:47.913478Z"
    },
    "tags": []
   },
   "outputs": [
    {
     "name": "stdout",
     "output_type": "stream",
     "text": [
      "Starting Spark application\n"
     ]
    },
    {
     "data": {
      "text/html": [
       "<table>\n",
       "<tbody><tr><th>ID</th><th>YARN Application ID</th><th>Kind</th><th>State</th><th>Spark UI</th><th>Driver log</th><th>User</th><th>Current session?</th></tr><tr><td>6</td><td>application_1706091808767_0007</td><td>pyspark</td><td>idle</td><td><a target=\"_blank\" href=\"http://ip-10-192-11-129.ec2.internal:20888/proxy/application_1706091808767_0007/\" class=\"emr-proxy-link j-2GBVAOMNV6EIQ application_1706091808767_0007\" emr-resource=\"j-2GBVAOMNV6EIQ\n",
       "\" application-id=\"application_1706091808767_0007\">Link</a></td><td><a target=\"_blank\" href=\"http://ip-10-192-11-161.ec2.internal:8042/node/containerlogs/container_1706091808767_0007_01_000001/livy\">Link</a></td><td>None</td><td>✔</td></tr></tbody></table>"
      ],
      "text/plain": [
       "<IPython.core.display.HTML object>"
      ]
     },
     "metadata": {},
     "output_type": "display_data"
    },
    {
     "data": {
      "application/vnd.jupyter.widget-view+json": {
       "model_id": "",
       "version_major": 2,
       "version_minor": 0
      },
      "text/plain": [
       "FloatProgress(value=0.0, bar_style='info', description='Progress:', layout=Layout(height='25px', width='50%'),…"
      ]
     },
     "metadata": {},
     "output_type": "display_data"
    },
    {
     "name": "stdout",
     "output_type": "stream",
     "text": [
      "SparkSession available as 'spark'.\n"
     ]
    },
    {
     "data": {
      "text/html": [
       "Current session configs: <tt>{'conf': {'spark.sql.extensions': 'org.apache.iceberg.spark.extensions.IcebergSparkSessionExtensions', 'spark.sql.catalog.glue_catalog': 'org.apache.iceberg.spark.SparkCatalog', 'spark.sql.catalog.glue_catalog.catalog-impl': 'org.apache.iceberg.aws.glue.GlueCatalog', 'spark.sql.catalog.glue_catalog.io-impl': 'org.apache.iceberg.aws.s3.S3FileIO', 'spark.sql.catalog.glue_catalog.warehouse': 's3://myemr-bucket-01/data/iceberg-folder/'}, 'proxyUser': 'user_norrishuang', 'kind': 'pyspark'}</tt><br>"
      ],
      "text/plain": [
       "<IPython.core.display.HTML object>"
      ]
     },
     "metadata": {},
     "output_type": "display_data"
    },
    {
     "data": {
      "text/html": [
       "<table>\n",
       "<tbody><tr><th>ID</th><th>YARN Application ID</th><th>Kind</th><th>State</th><th>Spark UI</th><th>Driver log</th><th>User</th><th>Current session?</th></tr><tr><td>6</td><td>application_1706091808767_0007</td><td>pyspark</td><td>idle</td><td><a target=\"_blank\" href=\"http://ip-10-192-11-129.ec2.internal:20888/proxy/application_1706091808767_0007/\" class=\"emr-proxy-link j-2GBVAOMNV6EIQ application_1706091808767_0007\" emr-resource=\"j-2GBVAOMNV6EIQ\n",
       "\" application-id=\"application_1706091808767_0007\">Link</a></td><td><a target=\"_blank\" href=\"http://ip-10-192-11-161.ec2.internal:8042/node/containerlogs/container_1706091808767_0007_01_000001/livy\">Link</a></td><td>None</td><td>✔</td></tr></tbody></table>"
      ],
      "text/plain": [
       "<IPython.core.display.HTML object>"
      ]
     },
     "metadata": {},
     "output_type": "display_data"
    }
   ],
   "source": [
    "%%configure -f\n",
    "{\n",
    "\"conf\":{\n",
    "    \"spark.sql.extensions\":\"org.apache.iceberg.spark.extensions.IcebergSparkSessionExtensions\",\n",
    "    \"spark.sql.catalog.glue_catalog\":\"org.apache.iceberg.spark.SparkCatalog\",\n",
    "    \"spark.sql.catalog.glue_catalog.catalog-impl\": \"org.apache.iceberg.aws.glue.GlueCatalog\",\n",
    "    \"spark.sql.catalog.glue_catalog.io-impl\": \"org.apache.iceberg.aws.s3.S3FileIO\",\n",
    "    \"spark.sql.catalog.glue_catalog.warehouse\":\"s3://myemr-bucket-01/data/iceberg-folder/\"\n",
    "    }\n",
    "}"
   ]
  },
  {
   "cell_type": "markdown",
   "id": "ed590293-80ed-4221-a48e-eaa8f7bb251b",
   "metadata": {},
   "source": [
    "#### 创建数据库"
   ]
  },
  {
   "cell_type": "code",
   "execution_count": 4,
   "id": "8277b30a-ed87-4878-a3bb-6c053555425b",
   "metadata": {
    "execution": {
     "iopub.execute_input": "2024-01-26T13:07:31.532311Z",
     "iopub.status.busy": "2024-01-26T13:07:31.532063Z",
     "iopub.status.idle": "2024-01-26T13:07:32.310692Z",
     "shell.execute_reply": "2024-01-26T13:07:32.310103Z",
     "shell.execute_reply.started": "2024-01-26T13:07:31.532282Z"
    },
    "tags": []
   },
   "outputs": [
    {
     "data": {
      "application/vnd.jupyter.widget-view+json": {
       "model_id": "",
       "version_major": 2,
       "version_minor": 0
      },
      "text/plain": [
       "FloatProgress(value=0.0, bar_style='info', description='Progress:', layout=Layout(height='25px', width='50%'),…"
      ]
     },
     "metadata": {},
     "output_type": "display_data"
    },
    {
     "data": {
      "application/vnd.jupyter.widget-view+json": {
       "model_id": "86e3ba66a2e4459fa375652ac6484e12",
       "version_major": 2,
       "version_minor": 0
      },
      "text/plain": [
       "VBox(children=(HBox(), EncodingWidget(children=(VBox(children=(HTML(value='Encoding:'), Dropdown(description='…"
      ]
     },
     "metadata": {},
     "output_type": "display_data"
    },
    {
     "data": {
      "application/vnd.jupyter.widget-view+json": {
       "model_id": "93769d36d6a44c779ccff3ea4356bf4b",
       "version_major": 2,
       "version_minor": 0
      },
      "text/plain": [
       "Output()"
      ]
     },
     "metadata": {},
     "output_type": "display_data"
    }
   ],
   "source": [
    "%%sql\n",
    "create database iceberg_db;"
   ]
  },
  {
   "cell_type": "markdown",
   "id": "e029b6e7-93e7-4264-8122-a31adf3aa55a",
   "metadata": {},
   "source": [
    "### 建表\n",
    "创建MOR表，设置参数 <br>\n",
    "`'write.metadata.delete-after-commit.enabled' = 'true'`  控制是否在提交后删除最旧的跟踪版本元数据文件 <br>\n",
    "`'write.metadata.previous-versions-max' = '5'` 提交后删除之前保留的先前版本元数据文件的最大数量 <br>\n",
    "`'history.expire.max-snapshot-age-ms' = '86400'`  快照过期时，在表及其所有分支上保留快照的默认最大时间，默认 432000000 (5 days) <br>\n",
    "`'history.expire.min-snapshots-to-keep' = '1'`  在快照过期时，在表及其所有分支上保留快照的默认最小数量 默认 1 <br>\n",
    "`'write.update.mode' = 'merge-on-read'` 写更新模式 <br>\n",
    "`'write.delete.mode' = 'merge-on-read'` 写删除模式 <br>\n",
    "`'write.merge.mode' = 'merge-on-read'`   写合并模式 <br>\n",
    "\n",
    "**需要注意，在SparkSQL中，读写iceberg表需要带上环境配置指定的 Catalog 名称**"
   ]
  },
  {
   "cell_type": "code",
   "execution_count": 17,
   "id": "c790d190-1dbb-4559-b130-75d85cf60372",
   "metadata": {
    "execution": {
     "iopub.execute_input": "2024-01-26T13:25:09.615947Z",
     "iopub.status.busy": "2024-01-26T13:25:09.615702Z",
     "iopub.status.idle": "2024-01-26T13:25:11.900783Z",
     "shell.execute_reply": "2024-01-26T13:25:11.900160Z",
     "shell.execute_reply.started": "2024-01-26T13:25:09.615919Z"
    },
    "tags": []
   },
   "outputs": [
    {
     "data": {
      "application/vnd.jupyter.widget-view+json": {
       "model_id": "",
       "version_major": 2,
       "version_minor": 0
      },
      "text/plain": [
       "FloatProgress(value=0.0, bar_style='info', description='Progress:', layout=Layout(height='25px', width='50%'),…"
      ]
     },
     "metadata": {},
     "output_type": "display_data"
    },
    {
     "data": {
      "application/vnd.jupyter.widget-view+json": {
       "model_id": "e93a0df8f3e9403fa520a098d87e99aa",
       "version_major": 2,
       "version_minor": 0
      },
      "text/plain": [
       "VBox(children=(HBox(), EncodingWidget(children=(VBox(children=(HTML(value='Encoding:'), Dropdown(description='…"
      ]
     },
     "metadata": {},
     "output_type": "display_data"
    },
    {
     "data": {
      "application/vnd.jupyter.widget-view+json": {
       "model_id": "5058c8ad98ed4d3196ba6967200cfa76",
       "version_major": 2,
       "version_minor": 0
      },
      "text/plain": [
       "Output()"
      ]
     },
     "metadata": {},
     "output_type": "display_data"
    }
   ],
   "source": [
    "%%sql\n",
    "CREATE TABLE glue_catalog.iceberg_db.sample_table (\n",
    "id int,\n",
    "a string,\n",
    "b int\n",
    ")\n",
    "USING iceberg\n",
    "LOCATION 's3://myemr-bucket-01/data/iceberg-folder/iceberg_db.db/sample_table/'\n",
    "TBLPROPERTIES (\n",
    "    'format' = 'iceberg/parquet',\n",
    "    'format-version' = '2',\n",
    "    'write.metadata.delete-after-commit.enabled' = 'true',\n",
    "    'write.metadata.previous-versions-max' = '5',\n",
    "    'history.expire.max-snapshot-age-ms' = '86400',\n",
    "    'history.expire.min-snapshots-to-keep' = '1',\n",
    "    'write.update.mode' = 'merge-on-read',\n",
    "    'write.delete.mode' = 'merge-on-read',\n",
    "    'write.merge.mode' = 'merge-on-read'\n",
    ")"
   ]
  },
  {
   "cell_type": "markdown",
   "id": "2ca2db8d-bf17-442b-919b-bf37f8f14d63",
   "metadata": {},
   "source": [
    "### 插入数据"
   ]
  },
  {
   "cell_type": "code",
   "execution_count": 18,
   "id": "1ebf8c91-65f5-4020-94d2-f5386a6b64e8",
   "metadata": {
    "execution": {
     "iopub.execute_input": "2024-01-26T13:25:38.379359Z",
     "iopub.status.busy": "2024-01-26T13:25:38.379103Z",
     "iopub.status.idle": "2024-01-26T13:25:49.702040Z",
     "shell.execute_reply": "2024-01-26T13:25:49.701269Z",
     "shell.execute_reply.started": "2024-01-26T13:25:38.379320Z"
    },
    "tags": []
   },
   "outputs": [
    {
     "data": {
      "application/vnd.jupyter.widget-view+json": {
       "model_id": "",
       "version_major": 2,
       "version_minor": 0
      },
      "text/plain": [
       "FloatProgress(value=0.0, bar_style='info', description='Progress:', layout=Layout(height='25px', width='50%'),…"
      ]
     },
     "metadata": {},
     "output_type": "display_data"
    },
    {
     "data": {
      "application/vnd.jupyter.widget-view+json": {
       "model_id": "b61548ec17f94eada7a6bf25b22af06e",
       "version_major": 2,
       "version_minor": 0
      },
      "text/plain": [
       "VBox(children=(HBox(), EncodingWidget(children=(VBox(children=(HTML(value='Encoding:'), Dropdown(description='…"
      ]
     },
     "metadata": {},
     "output_type": "display_data"
    },
    {
     "data": {
      "application/vnd.jupyter.widget-view+json": {
       "model_id": "8c91e6c0921146bcbcc2b3edd5812c70",
       "version_major": 2,
       "version_minor": 0
      },
      "text/plain": [
       "Output()"
      ]
     },
     "metadata": {},
     "output_type": "display_data"
    }
   ],
   "source": [
    "%%sql\n",
    "insert into glue_catalog.iceberg_db.sample_table values \n",
    "(1,'test01',10),\n",
    "(2,'test02',20),\n",
    "(3,'test03',30);"
   ]
  },
  {
   "cell_type": "markdown",
   "id": "e7d64d3c-5e64-4922-b9ba-9f87dd7f78e5",
   "metadata": {},
   "source": [
    "#### 查看插入的数据"
   ]
  },
  {
   "cell_type": "code",
   "execution_count": 19,
   "id": "3219dafa-0e3d-478c-8e7b-1dfb2ebad0c4",
   "metadata": {
    "execution": {
     "iopub.execute_input": "2024-01-26T13:26:49.781551Z",
     "iopub.status.busy": "2024-01-26T13:26:49.781295Z",
     "iopub.status.idle": "2024-01-26T13:27:03.168027Z",
     "shell.execute_reply": "2024-01-26T13:27:03.167407Z",
     "shell.execute_reply.started": "2024-01-26T13:26:49.781515Z"
    }
   },
   "outputs": [
    {
     "data": {
      "application/vnd.jupyter.widget-view+json": {
       "model_id": "",
       "version_major": 2,
       "version_minor": 0
      },
      "text/plain": [
       "FloatProgress(value=0.0, bar_style='info', description='Progress:', layout=Layout(height='25px', width='50%'),…"
      ]
     },
     "metadata": {},
     "output_type": "display_data"
    },
    {
     "data": {
      "application/vnd.jupyter.widget-view+json": {
       "model_id": "7fbb9f1010dc4d858b39fbc788ce3890",
       "version_major": 2,
       "version_minor": 0
      },
      "text/plain": [
       "VBox(children=(HBox(children=(HTML(value='Type:'), Button(description='Table', layout=Layout(width='70px'), st…"
      ]
     },
     "metadata": {},
     "output_type": "display_data"
    },
    {
     "data": {
      "application/vnd.jupyter.widget-view+json": {
       "model_id": "66c0b53f42584fa2b6242a81ca123c9b",
       "version_major": 2,
       "version_minor": 0
      },
      "text/plain": [
       "Output()"
      ]
     },
     "metadata": {},
     "output_type": "display_data"
    }
   ],
   "source": [
    "%%sql\n",
    "select * from glue_catalog.iceberg_db.sample_table;"
   ]
  },
  {
   "cell_type": "markdown",
   "id": "8f204dbc-6d93-427c-bc18-3809bf926897",
   "metadata": {},
   "source": [
    "#### 更新数据"
   ]
  },
  {
   "cell_type": "code",
   "execution_count": 20,
   "id": "2fa7bbb7-2999-479d-9ac1-88af5cabb632",
   "metadata": {
    "execution": {
     "iopub.execute_input": "2024-01-26T13:27:52.467961Z",
     "iopub.status.busy": "2024-01-26T13:27:52.467721Z",
     "iopub.status.idle": "2024-01-26T13:27:57.771396Z",
     "shell.execute_reply": "2024-01-26T13:27:57.770863Z",
     "shell.execute_reply.started": "2024-01-26T13:27:52.467933Z"
    }
   },
   "outputs": [
    {
     "data": {
      "application/vnd.jupyter.widget-view+json": {
       "model_id": "",
       "version_major": 2,
       "version_minor": 0
      },
      "text/plain": [
       "FloatProgress(value=0.0, bar_style='info', description='Progress:', layout=Layout(height='25px', width='50%'),…"
      ]
     },
     "metadata": {},
     "output_type": "display_data"
    },
    {
     "data": {
      "application/vnd.jupyter.widget-view+json": {
       "model_id": "2c91e647c91e4ae0b618747d76b41368",
       "version_major": 2,
       "version_minor": 0
      },
      "text/plain": [
       "VBox(children=(HBox(), EncodingWidget(children=(VBox(children=(HTML(value='Encoding:'), Dropdown(description='…"
      ]
     },
     "metadata": {},
     "output_type": "display_data"
    },
    {
     "data": {
      "application/vnd.jupyter.widget-view+json": {
       "model_id": "69147acffcbc460f99995b6cfc906103",
       "version_major": 2,
       "version_minor": 0
      },
      "text/plain": [
       "Output()"
      ]
     },
     "metadata": {},
     "output_type": "display_data"
    }
   ],
   "source": [
    "%%sql\n",
    "update glue_catalog.iceberg_db.sample_table set a = 'test01_update' where id = 1;"
   ]
  },
  {
   "cell_type": "markdown",
   "id": "a129c789-4790-4e56-856f-92310dc1d626",
   "metadata": {},
   "source": [
    "#### 查看更新后的结果"
   ]
  },
  {
   "cell_type": "code",
   "execution_count": 21,
   "id": "558a9e35-bafa-489f-8550-d60e4eaeb09a",
   "metadata": {
    "execution": {
     "iopub.execute_input": "2024-01-26T13:28:26.918024Z",
     "iopub.status.busy": "2024-01-26T13:28:26.917763Z",
     "iopub.status.idle": "2024-01-26T13:28:28.268383Z",
     "shell.execute_reply": "2024-01-26T13:28:28.267689Z",
     "shell.execute_reply.started": "2024-01-26T13:28:26.917994Z"
    }
   },
   "outputs": [
    {
     "data": {
      "application/vnd.jupyter.widget-view+json": {
       "model_id": "",
       "version_major": 2,
       "version_minor": 0
      },
      "text/plain": [
       "FloatProgress(value=0.0, bar_style='info', description='Progress:', layout=Layout(height='25px', width='50%'),…"
      ]
     },
     "metadata": {},
     "output_type": "display_data"
    },
    {
     "data": {
      "application/vnd.jupyter.widget-view+json": {
       "model_id": "5f5afade1b8e4e48ab07eba6734b023b",
       "version_major": 2,
       "version_minor": 0
      },
      "text/plain": [
       "VBox(children=(HBox(children=(HTML(value='Type:'), Button(description='Table', layout=Layout(width='70px'), st…"
      ]
     },
     "metadata": {},
     "output_type": "display_data"
    },
    {
     "data": {
      "application/vnd.jupyter.widget-view+json": {
       "model_id": "732c9ce654ed40ff80907bcc5d991694",
       "version_major": 2,
       "version_minor": 0
      },
      "text/plain": [
       "Output()"
      ]
     },
     "metadata": {},
     "output_type": "display_data"
    }
   ],
   "source": [
    "%%sql\n",
    "select * from glue_catalog.iceberg_db.sample_table where id = 1;"
   ]
  },
  {
   "cell_type": "markdown",
   "id": "1a7583e7-4b3b-4aef-9b8f-1b3566ba7e1d",
   "metadata": {},
   "source": [
    "### 查看写入的文件\n",
    "1. 通过 iceberg 自带的命令，查看文件"
   ]
  },
  {
   "cell_type": "code",
   "execution_count": 34,
   "id": "628e51f5-26e5-4ab4-ab85-5f953f85f5ae",
   "metadata": {
    "execution": {
     "iopub.execute_input": "2024-01-26T13:32:52.834675Z",
     "iopub.status.busy": "2024-01-26T13:32:52.834428Z",
     "iopub.status.idle": "2024-01-26T13:32:54.179517Z",
     "shell.execute_reply": "2024-01-26T13:32:54.178525Z",
     "shell.execute_reply.started": "2024-01-26T13:32:52.834644Z"
    },
    "tags": []
   },
   "outputs": [
    {
     "data": {
      "application/vnd.jupyter.widget-view+json": {
       "model_id": "",
       "version_major": 2,
       "version_minor": 0
      },
      "text/plain": [
       "FloatProgress(value=0.0, bar_style='info', description='Progress:', layout=Layout(height='25px', width='50%'),…"
      ]
     },
     "metadata": {},
     "output_type": "display_data"
    },
    {
     "data": {
      "application/vnd.jupyter.widget-view+json": {
       "model_id": "6b44ccacfe934eba88f342e14dbe2878",
       "version_major": 2,
       "version_minor": 0
      },
      "text/plain": [
       "VBox(children=(HBox(children=(HTML(value='Type:'), Button(description='Table', layout=Layout(width='70px'), st…"
      ]
     },
     "metadata": {},
     "output_type": "display_data"
    },
    {
     "data": {
      "application/vnd.jupyter.widget-view+json": {
       "model_id": "45f4b12be31648bbbe7a58b560023356",
       "version_major": 2,
       "version_minor": 0
      },
      "text/plain": [
       "Output()"
      ]
     },
     "metadata": {},
     "output_type": "display_data"
    }
   ],
   "source": [
    "%%sql\n",
    "select file_path,file_format,file_size_in_bytes from glue_catalog.iceberg_db.sample_table.files"
   ]
  },
  {
   "cell_type": "markdown",
   "id": "02f697c4-efe1-4cad-b8fc-6f916fda27d8",
   "metadata": {},
   "source": [
    "2. 查看 S3 上的文件 <br>\n",
    "我们可以看到在 S3 上的分区下已经写入了一个文件"
   ]
  },
  {
   "cell_type": "code",
   "execution_count": 26,
   "id": "8b75ae4d-87c1-40b6-b035-67fda74c45cf",
   "metadata": {
    "execution": {
     "iopub.execute_input": "2024-01-26T13:30:37.339214Z",
     "iopub.status.busy": "2024-01-26T13:30:37.338966Z",
     "iopub.status.idle": "2024-01-26T13:30:37.934411Z",
     "shell.execute_reply": "2024-01-26T13:30:37.933678Z",
     "shell.execute_reply.started": "2024-01-26T13:30:37.339184Z"
    },
    "tags": []
   },
   "outputs": [
    {
     "name": "stdout",
     "output_type": "stream",
     "text": [
      "2024-01-26 13:25:10       1433 00000-2b226b11-4a8d-4d64-9bed-15c0e7c89a47.metadata.json\n",
      "2024-01-26 13:25:48       2575 00001-99a6103e-d04c-4f83-9953-680ea7774214.metadata.json\n",
      "2024-01-26 13:27:56       3779 00002-b2dc8357-17cf-4d6f-bb74-4b84a6023808.metadata.json\n",
      "2024-01-26 13:25:48       6795 97ce98ba-e01b-46fa-81ed-980654d11064-m0.avro\n",
      "2024-01-26 13:27:56       6755 edc8a54a-fffd-46de-a005-5319e6f01ba3-m0.avro\n",
      "2024-01-26 13:27:56       6797 edc8a54a-fffd-46de-a005-5319e6f01ba3-m1.avro\n",
      "2024-01-26 13:27:56       4370 snap-7375920400988091942-1-edc8a54a-fffd-46de-a005-5319e6f01ba3.avro\n",
      "2024-01-26 13:25:48       4281 snap-9013261095390007612-1-97ce98ba-e01b-46fa-81ed-980654d11064.avro\n"
     ]
    }
   ],
   "source": [
    "%%sh\n",
    "aws s3 ls s3://myemr-bucket-01/data/iceberg-folder/iceberg_db.db/sample_table/data/"
   ]
  },
  {
   "cell_type": "markdown",
   "id": "d4418341-08dd-4d64-89da-04ce2f9b8933",
   "metadata": {},
   "source": [
    "3. 尝试删除一些记录，再来观察"
   ]
  },
  {
   "cell_type": "code",
   "execution_count": 27,
   "id": "51fd89fc-04fd-4959-aa8e-b595a1681e9a",
   "metadata": {
    "execution": {
     "iopub.execute_input": "2024-01-26T13:31:08.896665Z",
     "iopub.status.busy": "2024-01-26T13:31:08.896418Z",
     "iopub.status.idle": "2024-01-26T13:31:20.207058Z",
     "shell.execute_reply": "2024-01-26T13:31:20.206448Z",
     "shell.execute_reply.started": "2024-01-26T13:31:08.896634Z"
    },
    "tags": []
   },
   "outputs": [
    {
     "data": {
      "application/vnd.jupyter.widget-view+json": {
       "model_id": "",
       "version_major": 2,
       "version_minor": 0
      },
      "text/plain": [
       "FloatProgress(value=0.0, bar_style='info', description='Progress:', layout=Layout(height='25px', width='50%'),…"
      ]
     },
     "metadata": {},
     "output_type": "display_data"
    },
    {
     "data": {
      "application/vnd.jupyter.widget-view+json": {
       "model_id": "feb1c52f0cf24af3a2260f9cf9e0e28e",
       "version_major": 2,
       "version_minor": 0
      },
      "text/plain": [
       "VBox(children=(HBox(), EncodingWidget(children=(VBox(children=(HTML(value='Encoding:'), Dropdown(description='…"
      ]
     },
     "metadata": {},
     "output_type": "display_data"
    },
    {
     "data": {
      "application/vnd.jupyter.widget-view+json": {
       "model_id": "8cb5f99fefae4a7b98bd7c312b87e38b",
       "version_major": 2,
       "version_minor": 0
      },
      "text/plain": [
       "Output()"
      ]
     },
     "metadata": {},
     "output_type": "display_data"
    }
   ],
   "source": [
    "%%sql\n",
    "delete from glue_catalog.iceberg_db.sample_table where id = 3"
   ]
  },
  {
   "cell_type": "code",
   "execution_count": 29,
   "id": "324069e2-66fe-4200-9ce6-22f964f0f0f3",
   "metadata": {
    "execution": {
     "iopub.execute_input": "2024-01-26T13:31:57.374843Z",
     "iopub.status.busy": "2024-01-26T13:31:57.374573Z",
     "iopub.status.idle": "2024-01-26T13:32:02.733625Z",
     "shell.execute_reply": "2024-01-26T13:32:02.732993Z",
     "shell.execute_reply.started": "2024-01-26T13:31:57.374811Z"
    }
   },
   "outputs": [
    {
     "data": {
      "application/vnd.jupyter.widget-view+json": {
       "model_id": "",
       "version_major": 2,
       "version_minor": 0
      },
      "text/plain": [
       "FloatProgress(value=0.0, bar_style='info', description='Progress:', layout=Layout(height='25px', width='50%'),…"
      ]
     },
     "metadata": {},
     "output_type": "display_data"
    },
    {
     "data": {
      "application/vnd.jupyter.widget-view+json": {
       "model_id": "018ae39a7029454a9b4ea3902983349b",
       "version_major": 2,
       "version_minor": 0
      },
      "text/plain": [
       "VBox(children=(HBox(children=(HTML(value='Type:'), Button(description='Table', layout=Layout(width='70px'), st…"
      ]
     },
     "metadata": {},
     "output_type": "display_data"
    },
    {
     "data": {
      "application/vnd.jupyter.widget-view+json": {
       "model_id": "d9c165d8fee04555a1bead4c6bb19b91",
       "version_major": 2,
       "version_minor": 0
      },
      "text/plain": [
       "Output()"
      ]
     },
     "metadata": {},
     "output_type": "display_data"
    }
   ],
   "source": [
    "%%sql\n",
    "select * from glue_catalog.iceberg_db.sample_table"
   ]
  },
  {
   "cell_type": "markdown",
   "id": "732df32a-89ee-4f32-8346-eb169990ddda",
   "metadata": {},
   "source": [
    "这时我们可以看到在当前目录下已经有了一个 delete 后缀的文件"
   ]
  },
  {
   "cell_type": "code",
   "execution_count": 35,
   "id": "152d9ef2-4087-4a6f-bbf2-8a38bb400b82",
   "metadata": {
    "execution": {
     "iopub.execute_input": "2024-01-26T15:24:52.041289Z",
     "iopub.status.busy": "2024-01-26T15:24:52.041046Z",
     "iopub.status.idle": "2024-01-26T15:24:52.591589Z",
     "shell.execute_reply": "2024-01-26T15:24:52.590886Z",
     "shell.execute_reply.started": "2024-01-26T15:24:52.041260Z"
    },
    "tags": []
   },
   "outputs": [
    {
     "name": "stdout",
     "output_type": "stream",
     "text": [
      "                           PRE /\n",
      "2024-01-26 13:25:47        863 00000-0-65694c46-1036-4114-8a83-908c0f7318de-00001.parquet\n",
      "2024-01-26 13:27:56        924 00000-4-db86d939-5b1d-4e79-b9f6-e89306f906e1-00001.parquet\n",
      "2024-01-26 13:25:47        854 00001-1-65694c46-1036-4114-8a83-908c0f7318de-00001.parquet\n"
     ]
    }
   ],
   "source": [
    "%%sh\n",
    "aws s3 ls s3://myemr-bucket-01/data/iceberg-folder/iceberg_db.db/sample_table/data/"
   ]
  },
  {
   "cell_type": "markdown",
   "id": "4aaa48ea-1b02-4bc1-9c7f-f01131a34127",
   "metadata": {},
   "source": [
    "可以看到元数据目录下，有三个版本的元数据文件，两个 manifest文件，两个manifestlist文件"
   ]
  },
  {
   "cell_type": "code",
   "execution_count": 40,
   "id": "b208e226-11f1-404d-89bf-0faf6d98dcdc",
   "metadata": {
    "execution": {
     "iopub.execute_input": "2024-01-26T15:25:54.576164Z",
     "iopub.status.busy": "2024-01-26T15:25:54.575914Z",
     "iopub.status.idle": "2024-01-26T15:25:55.134555Z",
     "shell.execute_reply": "2024-01-26T15:25:55.133806Z",
     "shell.execute_reply.started": "2024-01-26T15:25:54.576133Z"
    },
    "tags": []
   },
   "outputs": [
    {
     "name": "stdout",
     "output_type": "stream",
     "text": [
      "2024-01-26 13:25:10       1433 00000-2b226b11-4a8d-4d64-9bed-15c0e7c89a47.metadata.json\n",
      "2024-01-26 13:25:48       2575 00001-99a6103e-d04c-4f83-9953-680ea7774214.metadata.json\n",
      "2024-01-26 13:27:56       3779 00002-b2dc8357-17cf-4d6f-bb74-4b84a6023808.metadata.json\n",
      "2024-01-26 13:31:20       4922 00003-771ee2fe-909d-4476-9da9-937445f0436a.metadata.json\n",
      "2024-01-26 13:25:48       6795 97ce98ba-e01b-46fa-81ed-980654d11064-m0.avro\n",
      "2024-01-26 13:31:20       6796 cde2727e-9990-498f-8469-753d630541ec-m0.avro\n",
      "2024-01-26 13:27:56       6755 edc8a54a-fffd-46de-a005-5319e6f01ba3-m0.avro\n",
      "2024-01-26 13:27:56       6797 edc8a54a-fffd-46de-a005-5319e6f01ba3-m1.avro\n",
      "2024-01-26 13:31:20       4415 snap-3579094904354232443-1-cde2727e-9990-498f-8469-753d630541ec.avro\n",
      "2024-01-26 13:27:56       4370 snap-7375920400988091942-1-edc8a54a-fffd-46de-a005-5319e6f01ba3.avro\n",
      "2024-01-26 13:25:48       4281 snap-9013261095390007612-1-97ce98ba-e01b-46fa-81ed-980654d11064.avro\n"
     ]
    }
   ],
   "source": [
    "%%sh\n",
    "aws s3 ls s3://myemr-bucket-01/data/iceberg-folder/iceberg_db.db/sample_table/metadata/"
   ]
  },
  {
   "cell_type": "markdown",
   "id": "417895be-21ad-4986-9626-f3452743dc6a",
   "metadata": {},
   "source": [
    "### Iceberg 文件&元数据管理\n",
    "\n",
    "以下介绍了通过 spark 对 iceberg 的小文件合并，过期文件清理等方法"
   ]
  },
  {
   "cell_type": "markdown",
   "id": "6ae057cb-769a-4cfa-9ead-f7b367845dec",
   "metadata": {},
   "source": [
    "### expire_snapshots\n",
    "\n",
    "清理过期的 snapshot<br>\n",
    "\n",
    "Iceberg 的每次 write/update/delete/upsert/compaction 都会产生一个新快照，同时保留旧数据和元数据，以实现快照隔离和时间旅行。expire_snapshots 程序可用于删除不再需要的旧快照及其文件。<br>\n",
    "\n",
    "该存储过程将删除旧快照和这些旧快照唯一需要的数据文件。这意味着 expire_snapshots 存储过程永远不会删除非过期快照仍然需要的文件。<br>"
   ]
  },
  {
   "cell_type": "code",
   "execution_count": 46,
   "id": "a8f79955-7d4b-4cc3-94d2-b6eddc805da0",
   "metadata": {
    "execution": {
     "iopub.execute_input": "2024-01-11T03:31:42.755541Z",
     "iopub.status.busy": "2024-01-11T03:31:42.755148Z",
     "iopub.status.idle": "2024-01-11T03:31:46.113049Z",
     "shell.execute_reply": "2024-01-11T03:31:46.112321Z",
     "shell.execute_reply.started": "2024-01-11T03:31:42.755509Z"
    },
    "tags": []
   },
   "outputs": [
    {
     "data": {
      "application/vnd.jupyter.widget-view+json": {
       "model_id": "",
       "version_major": 2,
       "version_minor": 0
      },
      "text/plain": [
       "FloatProgress(value=0.0, bar_style='info', description='Progress:', layout=Layout(height='25px', width='50%'),…"
      ]
     },
     "metadata": {},
     "output_type": "display_data"
    },
    {
     "data": {
      "application/vnd.jupyter.widget-view+json": {
       "model_id": "ecdd094cfb62489493e8f30c99a3535c",
       "version_major": 2,
       "version_minor": 0
      },
      "text/plain": [
       "VBox(children=(HBox(children=(HTML(value='Type:'), Button(description='Table', layout=Layout(width='70px'), st…"
      ]
     },
     "metadata": {},
     "output_type": "display_data"
    },
    {
     "data": {
      "application/vnd.jupyter.widget-view+json": {
       "model_id": "147696f0d042438a8bc8f1c7e327afed",
       "version_major": 2,
       "version_minor": 0
      },
      "text/plain": [
       "Output()"
      ]
     },
     "metadata": {},
     "output_type": "display_data"
    }
   ],
   "source": [
    "%%sql\n",
    "CALL glue_catalog.system.expire_snapshots(table => 'icebergdb.catalog_sales',older_than => TIMESTAMP '2024-01-11 03:10:00.000')"
   ]
  },
  {
   "cell_type": "markdown",
   "id": "c087aa83-db4d-4e17-afb1-70797a5c10f0",
   "metadata": {},
   "source": [
    "清理过期快照后，我们可以在查看一下当前的数据文件"
   ]
  },
  {
   "cell_type": "code",
   "execution_count": 50,
   "id": "2889a1b3-44fd-4dfb-b5db-ed835877bf52",
   "metadata": {
    "execution": {
     "iopub.execute_input": "2024-01-11T03:38:26.344181Z",
     "iopub.status.busy": "2024-01-11T03:38:26.343988Z",
     "iopub.status.idle": "2024-01-11T03:38:26.918667Z",
     "shell.execute_reply": "2024-01-11T03:38:26.917890Z",
     "shell.execute_reply.started": "2024-01-11T03:38:26.344155Z"
    },
    "tags": []
   },
   "outputs": [
    {
     "name": "stdout",
     "output_type": "stream",
     "text": [
      "2024-01-11 01:50:19   82793375 00000-1013-fa88059a-14ae-4ca6-ae6c-3e652694edec-00001.parquet\n",
      "2024-01-11 03:06:40       3335 00000-1032-3664e1cc-cc6c-468f-8183-d9d9ace18fcd-00001-deletes.parquet\n"
     ]
    }
   ],
   "source": [
    "%%sh\n",
    "aws s3 ls s3://myemr-bucket-01/data/iceberg-folder/icebergdb.db/catalog_sales/data/cs_sold_date_sk=2450815/"
   ]
  },
  {
   "cell_type": "markdown",
   "id": "35bfbd23-a30e-4db0-a454-33d1e019a8a8",
   "metadata": {},
   "source": [
    "### rewrite_data_files"
   ]
  },
  {
   "cell_type": "code",
   "execution_count": 49,
   "id": "9e8cf41e-68b4-4f81-b080-1e03ff980d6e",
   "metadata": {
    "execution": {
     "iopub.execute_input": "2024-01-11T03:38:03.448970Z",
     "iopub.status.busy": "2024-01-11T03:38:03.448732Z",
     "iopub.status.idle": "2024-01-11T03:38:12.820407Z",
     "shell.execute_reply": "2024-01-11T03:38:12.819635Z",
     "shell.execute_reply.started": "2024-01-11T03:38:03.448943Z"
    },
    "tags": []
   },
   "outputs": [
    {
     "data": {
      "application/vnd.jupyter.widget-view+json": {
       "model_id": "",
       "version_major": 2,
       "version_minor": 0
      },
      "text/plain": [
       "FloatProgress(value=0.0, bar_style='info', description='Progress:', layout=Layout(height='25px', width='50%'),…"
      ]
     },
     "metadata": {},
     "output_type": "display_data"
    },
    {
     "data": {
      "application/vnd.jupyter.widget-view+json": {
       "model_id": "72ddf56634b846139dfc4e54b03fe596",
       "version_major": 2,
       "version_minor": 0
      },
      "text/plain": [
       "VBox(children=(HBox(children=(HTML(value='Type:'), Button(description='Table', layout=Layout(width='70px'), st…"
      ]
     },
     "metadata": {},
     "output_type": "display_data"
    },
    {
     "data": {
      "application/vnd.jupyter.widget-view+json": {
       "model_id": "32280c924cfe464899ff19eabf52f90c",
       "version_major": 2,
       "version_minor": 0
      },
      "text/plain": [
       "Output()"
      ]
     },
     "metadata": {},
     "output_type": "display_data"
    }
   ],
   "source": [
    "%%sql\n",
    "CALL glue_catalog.system.rewrite_data_files(table => 'icebergdb.catalog_sales')"
   ]
  },
  {
   "cell_type": "markdown",
   "id": "46d84907-447c-4224-ae90-3d6f855b96c1",
   "metadata": {},
   "source": [
    "### rewrite_position_delete_files\n",
    "Iceberg can rewrite position delete files, which serves two purposes:\n",
    "\n",
    "* Minor Compaction: Compact small position delete files into larger ones. This reduces the size of metadata stored in manifest files and overhead of opening small delete files.\n",
    "* Remove Dangling Deletes: Filter out position delete records that refer to data files that are no longer live. After rewrite_data_files, position delete records pointing to the rewritten data files are not always marked for removal, and can remain tracked by the table’s live snapshot metadata. This is known as the ‘dangling delete’ problem."
   ]
  },
  {
   "cell_type": "code",
   "execution_count": 37,
   "id": "1c6161ba-230d-4d21-940e-374607f1529f",
   "metadata": {
    "execution": {
     "iopub.execute_input": "2024-01-11T03:06:27.379921Z",
     "iopub.status.busy": "2024-01-11T03:06:27.379676Z",
     "iopub.status.idle": "2024-01-11T03:06:44.771422Z",
     "shell.execute_reply": "2024-01-11T03:06:44.768816Z",
     "shell.execute_reply.started": "2024-01-11T03:06:27.379891Z"
    },
    "tags": []
   },
   "outputs": [
    {
     "data": {
      "application/vnd.jupyter.widget-view+json": {
       "model_id": "",
       "version_major": 2,
       "version_minor": 0
      },
      "text/plain": [
       "FloatProgress(value=0.0, bar_style='info', description='Progress:', layout=Layout(height='25px', width='50%'),…"
      ]
     },
     "metadata": {},
     "output_type": "display_data"
    },
    {
     "data": {
      "application/vnd.jupyter.widget-view+json": {
       "model_id": "173a1138eeb343cd9607a5a3a67cdda0",
       "version_major": 2,
       "version_minor": 0
      },
      "text/plain": [
       "VBox(children=(HBox(children=(HTML(value='Type:'), Button(description='Table', layout=Layout(width='70px'), st…"
      ]
     },
     "metadata": {},
     "output_type": "display_data"
    },
    {
     "data": {
      "application/vnd.jupyter.widget-view+json": {
       "model_id": "f425f01c73af49e2a733c60f7fe00de9",
       "version_major": 2,
       "version_minor": 0
      },
      "text/plain": [
       "Output()"
      ]
     },
     "metadata": {},
     "output_type": "display_data"
    }
   ],
   "source": [
    "%%sql\n",
    "CALL glue_catalog.system.rewrite_position_delete_files('icebergdb.catalog_sales')"
   ]
  },
  {
   "cell_type": "markdown",
   "id": "eb0aab60-4afb-4b01-b7e9-7177ae5cfaf5",
   "metadata": {},
   "source": [
    "##### 检查文件清理情况\n",
    "\n",
    "请替换 S3 目录"
   ]
  },
  {
   "cell_type": "code",
   "execution_count": 42,
   "id": "8aafbd11-12fd-4923-a79d-ee3acec9af4d",
   "metadata": {
    "execution": {
     "iopub.execute_input": "2024-01-11T03:14:31.785710Z",
     "iopub.status.busy": "2024-01-11T03:14:31.785467Z",
     "iopub.status.idle": "2024-01-11T03:14:32.324007Z",
     "shell.execute_reply": "2024-01-11T03:14:32.323210Z",
     "shell.execute_reply.started": "2024-01-11T03:14:31.785681Z"
    },
    "tags": []
   },
   "outputs": [
    {
     "name": "stdout",
     "output_type": "stream",
     "text": [
      "2024-01-11 01:50:19   82793375 00000-1013-fa88059a-14ae-4ca6-ae6c-3e652694edec-00001.parquet\n",
      "2024-01-11 03:06:40       3335 00000-1032-3664e1cc-cc6c-468f-8183-d9d9ace18fcd-00001-deletes.parquet\n"
     ]
    }
   ],
   "source": [
    "%%sh\n",
    "aws s3 ls s3://myemr-bucket-01/data/iceberg-folder/icebergdb.db/catalog_sales/data/cs_sold_date_sk=2450815/"
   ]
  },
  {
   "cell_type": "code",
   "execution_count": 39,
   "id": "b565270b-5cf8-4bf5-9f57-6a479ee90f61",
   "metadata": {
    "execution": {
     "iopub.execute_input": "2024-01-11T03:08:30.291592Z",
     "iopub.status.busy": "2024-01-11T03:08:30.291332Z",
     "iopub.status.idle": "2024-01-11T03:08:30.880979Z",
     "shell.execute_reply": "2024-01-11T03:08:30.880149Z",
     "shell.execute_reply.started": "2024-01-11T03:08:30.291561Z"
    }
   },
   "outputs": [
    {
     "name": "stdout",
     "output_type": "stream",
     "text": [
      "2024-01-11 03:01:37       8620 00003-9ff496b4-9507-454c-847d-ec7743deac99.metadata.json\n",
      "2024-01-11 03:01:58       9777 00004-49ed5cdf-3ec4-4c4f-bbb5-4f2012da42c0.metadata.json\n",
      "2024-01-11 03:02:08      10934 00005-ec251382-55f3-45c9-b5c5-be8ae1f5cf11.metadata.json\n",
      "2024-01-11 03:02:18      11890 00006-2cd9ea38-8764-4bba-9c3d-60b89e0a460b.metadata.json\n",
      "2024-01-11 03:03:02      12847 00007-3f0df5f9-9ff6-4565-b528-8c675ea636b0.metadata.json\n",
      "2024-01-11 03:06:40      13908 00008-ecb46631-1717-43a8-903e-533767d8b381.metadata.json\n",
      "2024-01-11 03:06:40       9283 2d24b1ec-a660-4491-97a0-7c609b075959-m0.avro\n",
      "2024-01-11 03:06:40       9285 2d24b1ec-a660-4491-97a0-7c609b075959-m1.avro\n",
      "2024-01-11 03:06:40       9286 2d24b1ec-a660-4491-97a0-7c609b075959-m2.avro\n",
      "2024-01-11 03:06:40       9283 2d24b1ec-a660-4491-97a0-7c609b075959-m3.avro\n",
      "2024-01-11 03:06:40       9285 2d24b1ec-a660-4491-97a0-7c609b075959-m4.avro\n",
      "2024-01-11 03:06:40       9282 2d24b1ec-a660-4491-97a0-7c609b075959-m5.avro\n",
      "2024-01-11 03:06:40       9280 2d24b1ec-a660-4491-97a0-7c609b075959-m6.avro\n",
      "2024-01-11 01:50:20       9792 3476dadb-72d1-44d9-9668-bd5c886c037b-m0.avro\n",
      "2024-01-11 03:01:58       9285 5318f1ad-0624-4c4d-a2f6-447547d9bdca-m0.avro\n",
      "2024-01-11 03:02:18       9284 73d86c33-eeca-41e4-a346-4feeaa64e16a-m0.avro\n",
      "2024-01-11 03:01:37       9284 96c36c93-7dae-48a7-a042-b588d698bd75-m0.avro\n",
      "2024-01-11 03:02:08       9283 b8dccac1-989b-4e86-829e-9932eefb7e68-m0.avro\n",
      "2024-01-11 03:03:02       9284 d3beb80a-8eeb-4165-b0da-c005a1ac1da9-m0.avro\n",
      "2024-01-11 01:59:03       9282 f446c03d-7d0c-4246-88ad-f88e1ade864d-m0.avro\n",
      "2024-01-11 01:59:03       4373 snap-1908261003606032921-1-f446c03d-7d0c-4246-88ad-f88e1ade864d.avro\n",
      "2024-01-11 03:06:40       4436 snap-3700362550868036053-1-2d24b1ec-a660-4491-97a0-7c609b075959.avro\n",
      "2024-01-11 03:02:08       4520 snap-4416615814158623027-1-b8dccac1-989b-4e86-829e-9932eefb7e68.avro\n",
      "2024-01-11 03:03:02       4614 snap-4829951756078259837-1-d3beb80a-8eeb-4165-b0da-c005a1ac1da9.avro\n",
      "2024-01-11 01:50:20       4294 snap-4843458718687631827-1-3476dadb-72d1-44d9-9668-bd5c886c037b.avro\n",
      "2024-01-11 03:01:58       4472 snap-6108974915037615662-1-5318f1ad-0624-4c4d-a2f6-447547d9bdca.avro\n",
      "2024-01-11 03:02:18       4572 snap-6766899425362176022-1-73d86c33-eeca-41e4-a346-4feeaa64e16a.avro\n",
      "2024-01-11 03:01:37       4424 snap-8487748254641863421-1-96c36c93-7dae-48a7-a042-b588d698bd75.avro\n"
     ]
    }
   ],
   "source": [
    "%%sh\n",
    "aws s3 ls s3://myemr-bucket-01/data/iceberg-folder/icebergdb.db/catalog_sales/metadata/"
   ]
  },
  {
   "cell_type": "code",
   "execution_count": null,
   "id": "4abac87e-493d-4005-92c9-2c91a215239e",
   "metadata": {},
   "outputs": [],
   "source": []
  }
 ],
 "metadata": {
  "kernelspec": {
   "display_name": "PySpark",
   "language": "python",
   "name": "pysparkkernel"
  },
  "language_info": {
   "codemirror_mode": {
    "name": "python",
    "version": 3
   },
   "file_extension": ".py",
   "mimetype": "text/x-python",
   "name": "pyspark",
   "pygments_lexer": "python3"
  }
 },
 "nbformat": 4,
 "nbformat_minor": 5
}
