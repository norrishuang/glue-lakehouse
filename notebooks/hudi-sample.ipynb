{
 "cells": [
  {
   "cell_type": "markdown",
   "id": "88af5427-9210-43e1-a3ee-b9e05b828432",
   "metadata": {
    "tags": []
   },
   "source": [
    "## Hudi Workshop"
   ]
  },
  {
   "cell_type": "markdown",
   "id": "7dfbdb1d-a675-4df2-88e1-e2fa7736ff0d",
   "metadata": {},
   "source": [
    "### 准备 Hudi 环境"
   ]
  },
  {
   "cell_type": "code",
   "execution_count": 2,
   "id": "fb99cf79-6000-4005-9ad4-fe369bbeb543",
   "metadata": {
    "execution": {
     "iopub.execute_input": "2024-01-24T10:48:54.413143Z",
     "iopub.status.busy": "2024-01-24T10:48:54.412877Z",
     "iopub.status.idle": "2024-01-24T10:48:58.692656Z",
     "shell.execute_reply": "2024-01-24T10:48:58.691850Z",
     "shell.execute_reply.started": "2024-01-24T10:48:54.413115Z"
    },
    "tags": []
   },
   "outputs": [
    {
     "name": "stdout",
     "output_type": "stream",
     "text": [
      "-rw-r--r--   1 emr-notebook hdfsadmingroup   61369223 2024-01-24 10:48 /tmp/hudi-spark-bundle.jar\n"
     ]
    }
   ],
   "source": [
    "%%sh\n",
    "# deploy hudi bundle jar\n",
    "hdfs dfs -copyFromLocal -f /usr/lib/hudi/hudi-spark-bundle.jar /tmp/hudi-spark-bundle.jar\n",
    "hdfs dfs -ls /tmp/hudi-spark-bundle.jar"
   ]
  },
  {
   "cell_type": "markdown",
   "id": "6f8564c4-8dc5-48e3-8c21-d4ee31868b36",
   "metadata": {},
   "source": [
    "#### 添加环境配置，如果是通过Spark代码操作Hudi表，也需要在代码中添加以下配置"
   ]
  },
  {
   "cell_type": "code",
   "execution_count": 3,
   "id": "bbffcaa4-628b-4658-8b9c-d642aafe98e8",
   "metadata": {
    "execution": {
     "iopub.execute_input": "2024-01-24T10:48:58.694273Z",
     "iopub.status.busy": "2024-01-24T10:48:58.694058Z",
     "iopub.status.idle": "2024-01-24T10:50:02.622158Z",
     "shell.execute_reply": "2024-01-24T10:50:02.621471Z",
     "shell.execute_reply.started": "2024-01-24T10:48:58.694246Z"
    },
    "tags": []
   },
   "outputs": [
    {
     "name": "stdout",
     "output_type": "stream",
     "text": [
      "Starting Spark application\n"
     ]
    },
    {
     "data": {
      "text/html": [
       "<table>\n<tbody><tr><th>ID</th><th>YARN Application ID</th><th>Kind</th><th>State</th><th>Spark UI</th><th>Driver log</th><th>User</th><th>Current session?</th></tr><tr><td>1</td><td>application_1706091808767_0002</td><td>pyspark</td><td>idle</td><td><a target=\"_blank\" href=\"http://ip-10-192-11-129.ec2.internal:20888/proxy/application_1706091808767_0002/\" class=\"emr-proxy-link j-2GBVAOMNV6EIQ application_1706091808767_0002\" emr-resource=\"j-2GBVAOMNV6EIQ\n\" application-id=\"application_1706091808767_0002\">Link</a></td><td><a target=\"_blank\" href=\"http://ip-10-192-11-161.ec2.internal:8042/node/containerlogs/container_1706091808767_0002_01_000001/livy\">Link</a></td><td>None</td><td>✔</td></tr></tbody></table>"
      ],
      "text/plain": [
       "<IPython.core.display.HTML object>"
      ]
     },
     "metadata": {},
     "output_type": "display_data"
    },
    {
     "data": {
      "application/vnd.jupyter.widget-view+json": {
       "model_id": "",
       "version_major": 2,
       "version_minor": 0
      },
      "text/plain": [
       "FloatProgress(value=0.0, bar_style='info', description='Progress:', layout=Layout(height='25px', width='50%'),…"
      ]
     },
     "metadata": {},
     "output_type": "display_data"
    },
    {
     "name": "stdout",
     "output_type": "stream",
     "text": [
      "SparkSession available as 'spark'.\n"
     ]
    },
    {
     "data": {
      "text/html": [
       "Current session configs: <tt>{'conf': {'spark.jars': 'hdfs:///tmp/hudi-spark-bundle.jar', 'spark.serializer': 'org.apache.spark.serializer.KryoSerializer', 'spark.sql.extensions': 'org.apache.spark.sql.hudi.HoodieSparkSessionExtension', 'spark.sql.catalog.spark_catalog': 'org.apache.spark.sql.hudi.catalog.HoodieCatalog'}, 'proxyUser': 'user_norrishuang', 'kind': 'pyspark'}</tt><br>"
      ],
      "text/plain": [
       "<IPython.core.display.HTML object>"
      ]
     },
     "metadata": {},
     "output_type": "display_data"
    },
    {
     "data": {
      "text/html": [
       "<table>\n<tbody><tr><th>ID</th><th>YARN Application ID</th><th>Kind</th><th>State</th><th>Spark UI</th><th>Driver log</th><th>User</th><th>Current session?</th></tr><tr><td>1</td><td>application_1706091808767_0002</td><td>pyspark</td><td>idle</td><td><a target=\"_blank\" href=\"http://ip-10-192-11-129.ec2.internal:20888/proxy/application_1706091808767_0002/\" class=\"emr-proxy-link j-2GBVAOMNV6EIQ application_1706091808767_0002\" emr-resource=\"j-2GBVAOMNV6EIQ\n\" application-id=\"application_1706091808767_0002\">Link</a></td><td><a target=\"_blank\" href=\"http://ip-10-192-11-161.ec2.internal:8042/node/containerlogs/container_1706091808767_0002_01_000001/livy\">Link</a></td><td>None</td><td>✔</td></tr></tbody></table>"
      ],
      "text/plain": [
       "<IPython.core.display.HTML object>"
      ]
     },
     "metadata": {},
     "output_type": "display_data"
    }
   ],
   "source": [
    "%%configure -f\n",
    "{\n",
    "    \"conf\" : {\n",
    "        \"spark.jars\":\"hdfs:///tmp/hudi-spark-bundle.jar\",            \n",
    "        \"spark.serializer\":\"org.apache.spark.serializer.KryoSerializer\",\n",
    "        \"spark.sql.extensions\":\"org.apache.spark.sql.hudi.HoodieSparkSessionExtension\",\n",
    "        \"spark.sql.catalog.spark_catalog\":\"org.apache.spark.sql.hudi.catalog.HoodieCatalog\"\n",
    "    }\n",
    "}"
   ]
  },
  {
   "cell_type": "markdown",
   "id": "bb555b55-7d51-401c-a0f0-b4ee96b96a92",
   "metadata": {},
   "source": [
    "### SQL 操作\n",
    "\n",
    "完成环境设置后，就可以开始操作hudi表。<br>\n",
    "\n",
    "#### Create Database"
   ]
  },
  {
   "cell_type": "code",
   "execution_count": 1,
   "id": "f0cca31a-cf64-4457-bd03-b1c72b402cc3",
   "metadata": {
    "execution": {
     "iopub.execute_input": "2024-01-24T10:47:57.492537Z",
     "iopub.status.busy": "2024-01-24T10:47:57.492184Z",
     "iopub.status.idle": "2024-01-24T10:48:46.831503Z",
     "shell.execute_reply": "2024-01-24T10:48:46.830731Z",
     "shell.execute_reply.started": "2024-01-24T10:47:57.492507Z"
    },
    "tags": []
   },
   "outputs": [
    {
     "name": "stdout",
     "output_type": "stream",
     "text": [
      "Starting Spark application\n"
     ]
    },
    {
     "data": {
      "text/html": [
       "<table>\n<tbody><tr><th>ID</th><th>YARN Application ID</th><th>Kind</th><th>State</th><th>Spark UI</th><th>Driver log</th><th>User</th><th>Current session?</th></tr><tr><td>0</td><td>application_1706091808767_0001</td><td>pyspark</td><td>idle</td><td><a target=\"_blank\" href=\"http://ip-10-192-11-129.ec2.internal:20888/proxy/application_1706091808767_0001/\" class=\"emr-proxy-link j-2GBVAOMNV6EIQ application_1706091808767_0001\" emr-resource=\"j-2GBVAOMNV6EIQ\n\" application-id=\"application_1706091808767_0001\">Link</a></td><td><a target=\"_blank\" href=\"http://ip-10-192-11-161.ec2.internal:8042/node/containerlogs/container_1706091808767_0001_01_000001/livy\">Link</a></td><td>None</td><td>✔</td></tr></tbody></table>"
      ],
      "text/plain": [
       "<IPython.core.display.HTML object>"
      ]
     },
     "metadata": {},
     "output_type": "display_data"
    },
    {
     "data": {
      "application/vnd.jupyter.widget-view+json": {
       "model_id": "",
       "version_major": 2,
       "version_minor": 0
      },
      "text/plain": [
       "FloatProgress(value=0.0, bar_style='info', description='Progress:', layout=Layout(height='25px', width='50%'),…"
      ]
     },
     "metadata": {},
     "output_type": "display_data"
    },
    {
     "name": "stdout",
     "output_type": "stream",
     "text": [
      "SparkSession available as 'spark'.\n"
     ]
    },
    {
     "data": {
      "application/vnd.jupyter.widget-view+json": {
       "model_id": "",
       "version_major": 2,
       "version_minor": 0
      },
      "text/plain": [
       "FloatProgress(value=0.0, bar_style='info', description='Progress:', layout=Layout(height='25px', width='50%'),…"
      ]
     },
     "metadata": {},
     "output_type": "display_data"
    },
    {
     "name": "stderr",
     "output_type": "stream",
     "text": [
      "An error was encountered:\n",
      "[SCHEMA_ALREADY_EXISTS] Cannot create schema `hudi_db` because it already exists.\n",
      "Choose a different name, drop the existing schema, or add the IF NOT EXISTS clause to tolerate pre-existing schema.\n",
      "Traceback (most recent call last):\n",
      "  File \"/mnt/yarn/usercache/livy/appcache/application_1706091808767_0001/container_1706091808767_0001_01_000001/pyspark.zip/pyspark/sql/session.py\", line 1440, in sql\n",
      "    return DataFrame(self._jsparkSession.sql(sqlQuery, litArgs), self)\n",
      "  File \"/mnt/yarn/usercache/livy/appcache/application_1706091808767_0001/container_1706091808767_0001_01_000001/py4j-0.10.9.7-src.zip/py4j/java_gateway.py\", line 1323, in __call__\n",
      "    answer, self.gateway_client, self.target_id, self.name)\n",
      "  File \"/mnt/yarn/usercache/livy/appcache/application_1706091808767_0001/container_1706091808767_0001_01_000001/pyspark.zip/pyspark/errors/exceptions/captured.py\", line 175, in deco\n",
      "    raise converted from None\n",
      "pyspark.errors.exceptions.captured.AnalysisException: [SCHEMA_ALREADY_EXISTS] Cannot create schema `hudi_db` because it already exists.\n",
      "Choose a different name, drop the existing schema, or add the IF NOT EXISTS clause to tolerate pre-existing schema.\n",
      "\n"
     ]
    }
   ],
   "source": [
    "%%sql\n",
    "create database hudi_db;"
   ]
  },
  {
   "cell_type": "markdown",
   "id": "e209b852-a143-4c7e-8257-3313a1c2d452",
   "metadata": {},
   "source": [
    "#### Create Table\n",
    "1. 创建 COW 表，指定主键字段为 id\n"
   ]
  },
  {
   "cell_type": "code",
   "execution_count": 28,
   "id": "dabc2b1e-c241-47e9-a358-e4e49a31b7d4",
   "metadata": {
    "execution": {
     "iopub.execute_input": "2024-01-24T12:52:06.738296Z",
     "iopub.status.busy": "2024-01-24T12:52:06.738026Z",
     "iopub.status.idle": "2024-01-24T12:52:12.038347Z",
     "shell.execute_reply": "2024-01-24T12:52:12.037684Z",
     "shell.execute_reply.started": "2024-01-24T12:52:06.738267Z"
    },
    "tags": []
   },
   "outputs": [
    {
     "data": {
      "application/vnd.jupyter.widget-view+json": {
       "model_id": "",
       "version_major": 2,
       "version_minor": 0
      },
      "text/plain": [
       "FloatProgress(value=0.0, bar_style='info', description='Progress:', layout=Layout(height='25px', width='50%'),…"
      ]
     },
     "metadata": {},
     "output_type": "display_data"
    },
    {
     "data": {
      "application/vnd.jupyter.widget-view+json": {
       "model_id": "38c253c390ba4ff7a381eb884f8e4255",
       "version_major": 2,
       "version_minor": 0
      },
      "text/plain": [
       "VBox(children=(HBox(), EncodingWidget(children=(VBox(children=(HTML(value='Encoding:'), Dropdown(description='…"
      ]
     },
     "metadata": {},
     "output_type": "display_data"
    },
    {
     "data": {
      "application/vnd.jupyter.widget-view+json": {
       "model_id": "4cab418bba54455485ae73e51d435a62",
       "version_major": 2,
       "version_minor": 0
      },
      "text/plain": [
       "Output()"
      ]
     },
     "metadata": {},
     "output_type": "display_data"
    }
   ],
   "source": [
    "%%sql\n",
    "CREATE TABLE hudi_db.sample_cow (\n",
    "id int,\n",
    "a string,\n",
    "b int\n",
    ")\n",
    "USING hudi\n",
    "OPTIONS (\n",
    "'primaryKey' = 'id',\n",
    "'preCombineField' = 'id',\n",
    "'type' = 'cow'\n",
    ")\n",
    "LOCATION 's3://myemr-bucket-01/data/hudi/sample_cow'"
   ]
  },
  {
   "cell_type": "markdown",
   "id": "55206b42-56bb-4820-8ca7-6528fcd7b44e",
   "metadata": {
    "execution": {
     "iopub.execute_input": "2024-01-10T01:34:20.251095Z",
     "iopub.status.busy": "2024-01-10T01:34:20.250843Z",
     "iopub.status.idle": "2024-01-10T01:34:20.303751Z",
     "shell.execute_reply": "2024-01-10T01:34:20.302958Z",
     "shell.execute_reply.started": "2024-01-10T01:34:20.251067Z"
    }
   },
   "source": [
    "#### 插入数据"
   ]
  },
  {
   "cell_type": "code",
   "execution_count": 29,
   "id": "1a6b1d7c-a462-4e32-9360-9762479b6007",
   "metadata": {
    "execution": {
     "iopub.execute_input": "2024-01-24T12:52:13.670919Z",
     "iopub.status.busy": "2024-01-24T12:52:13.670664Z",
     "iopub.status.idle": "2024-01-24T12:52:43.044021Z",
     "shell.execute_reply": "2024-01-24T12:52:43.043412Z",
     "shell.execute_reply.started": "2024-01-24T12:52:13.670891Z"
    },
    "tags": []
   },
   "outputs": [
    {
     "data": {
      "application/vnd.jupyter.widget-view+json": {
       "model_id": "",
       "version_major": 2,
       "version_minor": 0
      },
      "text/plain": [
       "FloatProgress(value=0.0, bar_style='info', description='Progress:', layout=Layout(height='25px', width='50%'),…"
      ]
     },
     "metadata": {},
     "output_type": "display_data"
    },
    {
     "data": {
      "application/vnd.jupyter.widget-view+json": {
       "model_id": "1f1f2059de6d48e0bc34a583755f8388",
       "version_major": 2,
       "version_minor": 0
      },
      "text/plain": [
       "VBox(children=(HBox(), EncodingWidget(children=(VBox(children=(HTML(value='Encoding:'), Dropdown(description='…"
      ]
     },
     "metadata": {},
     "output_type": "display_data"
    },
    {
     "data": {
      "application/vnd.jupyter.widget-view+json": {
       "model_id": "0f4124f40f0743389767b770741fc285",
       "version_major": 2,
       "version_minor": 0
      },
      "text/plain": [
       "Output()"
      ]
     },
     "metadata": {},
     "output_type": "display_data"
    }
   ],
   "source": [
    "%%sql\n",
    "insert into hudi_db.sample_cow values \n",
    "(1,'test01',10),\n",
    "(2,'test02',20),\n",
    "(3,'test03',30);"
   ]
  },
  {
   "cell_type": "markdown",
   "id": "7ce45db4-f47f-4a06-a163-c60231e86a30",
   "metadata": {},
   "source": [
    "#### 查询数据"
   ]
  },
  {
   "cell_type": "code",
   "execution_count": 30,
   "id": "c4b178df-1bf7-4e32-ad7b-8ff7c4fefeb5",
   "metadata": {
    "execution": {
     "iopub.execute_input": "2024-01-24T12:52:45.355734Z",
     "iopub.status.busy": "2024-01-24T12:52:45.355461Z",
     "iopub.status.idle": "2024-01-24T12:52:50.736626Z",
     "shell.execute_reply": "2024-01-24T12:52:50.735917Z",
     "shell.execute_reply.started": "2024-01-24T12:52:45.355704Z"
    },
    "tags": []
   },
   "outputs": [
    {
     "data": {
      "application/vnd.jupyter.widget-view+json": {
       "model_id": "",
       "version_major": 2,
       "version_minor": 0
      },
      "text/plain": [
       "FloatProgress(value=0.0, bar_style='info', description='Progress:', layout=Layout(height='25px', width='50%'),…"
      ]
     },
     "metadata": {},
     "output_type": "display_data"
    },
    {
     "data": {
      "application/vnd.jupyter.widget-view+json": {
       "model_id": "5a74c4d72499403aaecb1975f822d4b9",
       "version_major": 2,
       "version_minor": 0
      },
      "text/plain": [
       "VBox(children=(HBox(children=(HTML(value='Type:'), Button(description='Table', layout=Layout(width='70px'), st…"
      ]
     },
     "metadata": {},
     "output_type": "display_data"
    },
    {
     "data": {
      "application/vnd.jupyter.widget-view+json": {
       "model_id": "d3f77104eb00473d852a6daa9a998be8",
       "version_major": 2,
       "version_minor": 0
      },
      "text/plain": [
       "Output()"
      ]
     },
     "metadata": {},
     "output_type": "display_data"
    }
   ],
   "source": [
    "%%sql\n",
    "select * from hudi_db.sample_cow;"
   ]
  },
  {
   "cell_type": "markdown",
   "id": "18c84b99-ed82-49fe-b189-7307f1db77b1",
   "metadata": {},
   "source": [
    "#### 修改一条记录\n",
    "\n",
    "由于Hudi是有主键约束的，同样通过 Insert 语法插入一条已经存在的记录时，它会自动的更新列。"
   ]
  },
  {
   "cell_type": "code",
   "execution_count": 31,
   "id": "9b8a19bb-b740-461d-928e-c0dbcc85a838",
   "metadata": {
    "execution": {
     "iopub.execute_input": "2024-01-24T12:53:19.518367Z",
     "iopub.status.busy": "2024-01-24T12:53:19.518160Z",
     "iopub.status.idle": "2024-01-24T12:53:40.864634Z",
     "shell.execute_reply": "2024-01-24T12:53:40.864018Z",
     "shell.execute_reply.started": "2024-01-24T12:53:19.518341Z"
    },
    "tags": []
   },
   "outputs": [
    {
     "data": {
      "application/vnd.jupyter.widget-view+json": {
       "model_id": "",
       "version_major": 2,
       "version_minor": 0
      },
      "text/plain": [
       "FloatProgress(value=0.0, bar_style='info', description='Progress:', layout=Layout(height='25px', width='50%'),…"
      ]
     },
     "metadata": {},
     "output_type": "display_data"
    },
    {
     "data": {
      "application/vnd.jupyter.widget-view+json": {
       "model_id": "eae81734ab704fecb11ea55dd030d804",
       "version_major": 2,
       "version_minor": 0
      },
      "text/plain": [
       "VBox(children=(HBox(), EncodingWidget(children=(VBox(children=(HTML(value='Encoding:'), Dropdown(description='…"
      ]
     },
     "metadata": {},
     "output_type": "display_data"
    },
    {
     "data": {
      "application/vnd.jupyter.widget-view+json": {
       "model_id": "a0e0a4bf97f343d5a894126e74ce81fb",
       "version_major": 2,
       "version_minor": 0
      },
      "text/plain": [
       "Output()"
      ]
     },
     "metadata": {},
     "output_type": "display_data"
    }
   ],
   "source": [
    "%%sql\n",
    "update hudi_db.sample_cow set a = 'test01_update' where id = 1;"
   ]
  },
  {
   "cell_type": "markdown",
   "id": "ce839a3e-eb7b-459d-9c18-59b82efbf765",
   "metadata": {},
   "source": [
    "#### 验证记录修改的情况"
   ]
  },
  {
   "cell_type": "code",
   "execution_count": 32,
   "id": "e5bf9b1f-86fb-4875-a168-721588cbd361",
   "metadata": {
    "execution": {
     "iopub.execute_input": "2024-01-24T12:54:04.041526Z",
     "iopub.status.busy": "2024-01-24T12:54:04.041254Z",
     "iopub.status.idle": "2024-01-24T12:54:07.418875Z",
     "shell.execute_reply": "2024-01-24T12:54:07.418173Z",
     "shell.execute_reply.started": "2024-01-24T12:54:04.041484Z"
    }
   },
   "outputs": [
    {
     "data": {
      "application/vnd.jupyter.widget-view+json": {
       "model_id": "",
       "version_major": 2,
       "version_minor": 0
      },
      "text/plain": [
       "FloatProgress(value=0.0, bar_style='info', description='Progress:', layout=Layout(height='25px', width='50%'),…"
      ]
     },
     "metadata": {},
     "output_type": "display_data"
    },
    {
     "data": {
      "application/vnd.jupyter.widget-view+json": {
       "model_id": "ecf1f6a19c904d5ebf7c49eb128dc46a",
       "version_major": 2,
       "version_minor": 0
      },
      "text/plain": [
       "VBox(children=(HBox(children=(HTML(value='Type:'), Button(description='Table', layout=Layout(width='70px'), st…"
      ]
     },
     "metadata": {},
     "output_type": "display_data"
    },
    {
     "data": {
      "application/vnd.jupyter.widget-view+json": {
       "model_id": "a945995876bb44f188da71c8f876ced5",
       "version_major": 2,
       "version_minor": 0
      },
      "text/plain": [
       "Output()"
      ]
     },
     "metadata": {},
     "output_type": "display_data"
    }
   ],
   "source": [
    "%%sql\n",
    "select * from hudi_db.sample_cow where id = 1;"
   ]
  },
  {
   "cell_type": "markdown",
   "id": "8c7de9f4-20f2-4fd0-b7e2-9610c918fb7c",
   "metadata": {},
   "source": [
    "#### 查看文件结构"
   ]
  },
  {
   "cell_type": "code",
   "execution_count": 33,
   "id": "71c71090-20f2-4c1a-9ce2-960b4cfc794e",
   "metadata": {
    "execution": {
     "iopub.execute_input": "2024-01-24T12:54:20.570808Z",
     "iopub.status.busy": "2024-01-24T12:54:20.570612Z",
     "iopub.status.idle": "2024-01-24T12:54:21.174391Z",
     "shell.execute_reply": "2024-01-24T12:54:21.173597Z",
     "shell.execute_reply.started": "2024-01-24T12:54:20.570782Z"
    },
    "tags": []
   },
   "outputs": [
    {
     "name": "stdout",
     "output_type": "stream",
     "text": [
      "                           PRE .hoodie/\n",
      "2024-01-24 12:52:08          0 .hoodie_$folder$\n",
      "2024-01-24 12:52:26         96 .hoodie_partition_metadata\n",
      "2024-01-24 12:52:28     434736 c3ae63d4-2ef3-4ec8-8355-a52cba4c4cd7-0_0-139-174_20240124125215354.parquet\n",
      "2024-01-24 12:53:27     434739 c3ae63d4-2ef3-4ec8-8355-a52cba4c4cd7-0_0-178-208_20240124125321046.parquet\n"
     ]
    }
   ],
   "source": [
    "%%sh\n",
    "aws s3 ls s3://myemr-bucket-01/data/hudi/sample_cow/"
   ]
  },
  {
   "cell_type": "markdown",
   "id": "89e61b71-8ddf-407e-b9e7-5ba803c15a8f",
   "metadata": {},
   "source": [
    "### MOR 表"
   ]
  },
  {
   "cell_type": "code",
   "execution_count": 35,
   "id": "2507b90f-8a0d-496d-a99d-abfcc51e19a0",
   "metadata": {
    "execution": {
     "iopub.execute_input": "2024-01-24T12:55:47.066449Z",
     "iopub.status.busy": "2024-01-24T12:55:47.066193Z",
     "iopub.status.idle": "2024-01-24T12:55:52.364983Z",
     "shell.execute_reply": "2024-01-24T12:55:52.364380Z",
     "shell.execute_reply.started": "2024-01-24T12:55:47.066420Z"
    },
    "tags": []
   },
   "outputs": [
    {
     "data": {
      "application/vnd.jupyter.widget-view+json": {
       "model_id": "",
       "version_major": 2,
       "version_minor": 0
      },
      "text/plain": [
       "FloatProgress(value=0.0, bar_style='info', description='Progress:', layout=Layout(height='25px', width='50%'),…"
      ]
     },
     "metadata": {},
     "output_type": "display_data"
    },
    {
     "data": {
      "application/vnd.jupyter.widget-view+json": {
       "model_id": "1a23da2a30f34ad8b465dd78894cfbe5",
       "version_major": 2,
       "version_minor": 0
      },
      "text/plain": [
       "VBox(children=(HBox(), EncodingWidget(children=(VBox(children=(HTML(value='Encoding:'), Dropdown(description='…"
      ]
     },
     "metadata": {},
     "output_type": "display_data"
    },
    {
     "data": {
      "application/vnd.jupyter.widget-view+json": {
       "model_id": "d68a0ace09344d9e9bb56a3ee471f2b3",
       "version_major": 2,
       "version_minor": 0
      },
      "text/plain": [
       "Output()"
      ]
     },
     "metadata": {},
     "output_type": "display_data"
    }
   ],
   "source": [
    "%%sql\n",
    "CREATE TABLE hudi_db.sample_mor (\n",
    "id int,\n",
    "a string,\n",
    "b int\n",
    ")\n",
    "USING hudi\n",
    "OPTIONS (\n",
    "'primaryKey' = 'id',\n",
    "'preCombineField' = 'id',\n",
    "'type' = 'mor'\n",
    ")\n",
    "LOCATION 's3://myemr-bucket-01/data/hudi/sample_mor'"
   ]
  },
  {
   "cell_type": "markdown",
   "id": "c6c5065e-5226-43ea-8e38-dbc69332dde3",
   "metadata": {},
   "source": [
    "#### 插入数据"
   ]
  },
  {
   "cell_type": "code",
   "execution_count": 36,
   "id": "7f9b5758-ebe1-41e6-8612-151b4c2cfa2a",
   "metadata": {
    "execution": {
     "iopub.execute_input": "2024-01-24T12:55:57.540159Z",
     "iopub.status.busy": "2024-01-24T12:55:57.539896Z",
     "iopub.status.idle": "2024-01-24T12:56:36.956515Z",
     "shell.execute_reply": "2024-01-24T12:56:36.955866Z",
     "shell.execute_reply.started": "2024-01-24T12:55:57.540130Z"
    },
    "tags": []
   },
   "outputs": [
    {
     "data": {
      "application/vnd.jupyter.widget-view+json": {
       "model_id": "",
       "version_major": 2,
       "version_minor": 0
      },
      "text/plain": [
       "FloatProgress(value=0.0, bar_style='info', description='Progress:', layout=Layout(height='25px', width='50%'),…"
      ]
     },
     "metadata": {},
     "output_type": "display_data"
    },
    {
     "data": {
      "application/vnd.jupyter.widget-view+json": {
       "model_id": "8c532e92293c4fceb771a4c998f2df2c",
       "version_major": 2,
       "version_minor": 0
      },
      "text/plain": [
       "VBox(children=(HBox(), EncodingWidget(children=(VBox(children=(HTML(value='Encoding:'), Dropdown(description='…"
      ]
     },
     "metadata": {},
     "output_type": "display_data"
    },
    {
     "data": {
      "application/vnd.jupyter.widget-view+json": {
       "model_id": "506c38ea6d8a4df4b6472c9e226cf660",
       "version_major": 2,
       "version_minor": 0
      },
      "text/plain": [
       "Output()"
      ]
     },
     "metadata": {},
     "output_type": "display_data"
    }
   ],
   "source": [
    "%%sql\n",
    "insert into hudi_db.sample_mor values \n",
    "(1,'test01',10),\n",
    "(2,'test02',20),\n",
    "(3,'test03',30);"
   ]
  },
  {
   "cell_type": "markdown",
   "id": "28bf10ad-746b-4312-93ad-fc5dd8ddbad1",
   "metadata": {},
   "source": [
    "#### 修改一条记录"
   ]
  },
  {
   "cell_type": "code",
   "execution_count": 38,
   "id": "dce3103f-3265-4255-a2ce-ac05e02c10cd",
   "metadata": {
    "execution": {
     "iopub.execute_input": "2024-01-24T12:57:44.661613Z",
     "iopub.status.busy": "2024-01-24T12:57:44.661420Z",
     "iopub.status.idle": "2024-01-24T12:58:08.012597Z",
     "shell.execute_reply": "2024-01-24T12:58:08.011957Z",
     "shell.execute_reply.started": "2024-01-24T12:57:44.661586Z"
    },
    "tags": []
   },
   "outputs": [
    {
     "data": {
      "application/vnd.jupyter.widget-view+json": {
       "model_id": "",
       "version_major": 2,
       "version_minor": 0
      },
      "text/plain": [
       "FloatProgress(value=0.0, bar_style='info', description='Progress:', layout=Layout(height='25px', width='50%'),…"
      ]
     },
     "metadata": {},
     "output_type": "display_data"
    },
    {
     "data": {
      "application/vnd.jupyter.widget-view+json": {
       "model_id": "e052f3349062479cba3a55ab606c88c7",
       "version_major": 2,
       "version_minor": 0
      },
      "text/plain": [
       "VBox(children=(HBox(), EncodingWidget(children=(VBox(children=(HTML(value='Encoding:'), Dropdown(description='…"
      ]
     },
     "metadata": {},
     "output_type": "display_data"
    },
    {
     "data": {
      "application/vnd.jupyter.widget-view+json": {
       "model_id": "b20be9074dc645b98d63bd42c698e6e3",
       "version_major": 2,
       "version_minor": 0
      },
      "text/plain": [
       "Output()"
      ]
     },
     "metadata": {},
     "output_type": "display_data"
    }
   ],
   "source": [
    "%%sql\n",
    "update hudi_db.sample_mor set a = 'test01_update' where id = 1;"
   ]
  },
  {
   "cell_type": "code",
   "execution_count": 37,
   "id": "746e62ec-a6c1-41fa-ba0f-937e6fe06a7b",
   "metadata": {
    "execution": {
     "iopub.execute_input": "2024-01-24T12:57:23.207510Z",
     "iopub.status.busy": "2024-01-24T12:57:23.207255Z",
     "iopub.status.idle": "2024-01-24T12:57:28.582930Z",
     "shell.execute_reply": "2024-01-24T12:57:28.582288Z",
     "shell.execute_reply.started": "2024-01-24T12:57:23.207481Z"
    },
    "tags": []
   },
   "outputs": [
    {
     "data": {
      "application/vnd.jupyter.widget-view+json": {
       "model_id": "",
       "version_major": 2,
       "version_minor": 0
      },
      "text/plain": [
       "FloatProgress(value=0.0, bar_style='info', description='Progress:', layout=Layout(height='25px', width='50%'),…"
      ]
     },
     "metadata": {},
     "output_type": "display_data"
    },
    {
     "data": {
      "application/vnd.jupyter.widget-view+json": {
       "model_id": "cb11a45ddee34523a809b644e10d9d8f",
       "version_major": 2,
       "version_minor": 0
      },
      "text/plain": [
       "VBox(children=(HBox(children=(HTML(value='Type:'), Button(description='Table', layout=Layout(width='70px'), st…"
      ]
     },
     "metadata": {},
     "output_type": "display_data"
    },
    {
     "data": {
      "application/vnd.jupyter.widget-view+json": {
       "model_id": "e3ec13968a7742eb8f30554b0aa6b5ab",
       "version_major": 2,
       "version_minor": 0
      },
      "text/plain": [
       "Output()"
      ]
     },
     "metadata": {},
     "output_type": "display_data"
    }
   ],
   "source": [
    "%%sql\n",
    "select * from hudi_db.sample_mor where id = 1;"
   ]
  },
  {
   "cell_type": "markdown",
   "id": "f1044d14-ff99-41cc-afbc-5225d6b0e15d",
   "metadata": {},
   "source": [
    "#### 查看文件结构"
   ]
  },
  {
   "cell_type": "code",
   "execution_count": 24,
   "id": "8392bec7-8918-47ff-aa73-1ed6b50db5d1",
   "metadata": {
    "execution": {
     "iopub.execute_input": "2024-01-24T11:59:02.131806Z",
     "iopub.status.busy": "2024-01-24T11:59:02.131566Z",
     "iopub.status.idle": "2024-01-24T11:59:02.714836Z",
     "shell.execute_reply": "2024-01-24T11:59:02.714036Z",
     "shell.execute_reply.started": "2024-01-24T11:59:02.131779Z"
    }
   },
   "outputs": [
    {
     "name": "stdout",
     "output_type": "stream",
     "text": [
      "                           PRE .hoodie/\n",
      "2024-01-24 11:46:32          0 .hoodie_$folder$\n",
      "2024-01-24 11:47:17         96 .hoodie_partition_metadata\n",
      "2024-01-24 11:47:18     434728 e5abd50b-ae4b-4df6-8adf-c189d625d0f3-0_0-73-91_20240124114700558.parquet\n",
      "2024-01-24 11:55:30     434740 e5abd50b-ae4b-4df6-8adf-c189d625d0f3-0_0-95-113_20240124115516414.parquet\n"
     ]
    }
   ],
   "source": [
    "%%sh\n",
    "aws s3 ls s3://myemr-bucket-01/data/hudi/sample_mor/"
   ]
  },
  {
   "cell_type": "code",
   "execution_count": null,
   "id": "eb2aa5ec-c2b5-4354-8050-dd060cd39dd7",
   "metadata": {},
   "outputs": [],
   "source": []
  }
 ],
 "metadata": {
  "kernelspec": {
   "display_name": "PySpark",
   "language": "python",
   "name": "pysparkkernel"
  },
  "language_info": {
   "codemirror_mode": {
    "name": "python",
    "version": 3
   },
   "file_extension": ".py",
   "mimetype": "text/x-python",
   "name": "pyspark",
   "pygments_lexer": "python3"
  }
 },
 "nbformat": 4,
 "nbformat_minor": 5
}
